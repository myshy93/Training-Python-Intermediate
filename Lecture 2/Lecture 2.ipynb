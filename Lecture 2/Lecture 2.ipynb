{
 "cells": [
  {
   "cell_type": "markdown",
   "metadata": {},
   "source": [
    "# Lecture 2 - Functional Programming\n",
    "\n",
    "### 📕 Today's Agenda\n",
    "---\n",
    " * Static methods and class attributes\n",
    " * Object copy\n",
    " * Iterators\n",
    " * Generators\n",
    " * Lambda functions\n",
    " * List comprehension\n",
    "\n",
    "### 🧪 Theory\n",
    "---\n",
    "### Static classes and class attributes\n",
    "**Class attributes definition**\n",
    "\n",
    "Static attributes are sharing the value with all instances. They are inherited by all child classes.\n",
    "Static attributes can be accesses also as instance attribute only if a instance attribute with same name does not exist,\n",
    "otherwise the instance attribute will be accessed."
   ]
  },
  {
   "cell_type": "code",
   "execution_count": 24,
   "outputs": [
    {
     "name": "stdout",
     "output_type": "stream",
     "text": [
      "1\n",
      "['__class__', '__delattr__', '__dict__', '__dir__', '__doc__', '__eq__', '__format__', '__ge__', '__getattribute__', '__gt__', '__hash__', '__init__', '__init_subclass__', '__le__', '__lt__', '__module__', '__ne__', '__new__', '__reduce__', '__reduce_ex__', '__repr__', '__setattr__', '__sizeof__', '__str__', '__subclasshook__', '__weakref__', 'cars_created', 'x']\n",
      "4\n",
      "Static value 1\n",
      "4\n",
      "2\n"
     ]
    }
   ],
   "source": [
    "class Connection:\n",
    "    default_port = 9000 # define and assign value for static attribute\n",
    "\n",
    "class Car:\n",
    "    cars_created = 0 # define and assign value for static attribute\n",
    "\n",
    "    def __init__(self):\n",
    "        Car.cars_created += 1 # set value for instance attribute\n",
    "        #self.cars_created = 888 # instance attributes have priority\n",
    "\n",
    "class Volvo(Car):\n",
    "\n",
    "    def __init__(self):\n",
    "        super().__init__()\n",
    "        self.x = 1\n",
    "\n",
    "v = Volvo()\n",
    "print(v.cars_created) # print instance attribute\n",
    "print(dir(v))\n",
    "v.cars_created = 4 # define and set instance attribute\n",
    "print(v.cars_created)\n",
    "print('Static value', Car.cars_created) # print class attribute\n",
    "vv = Volvo() # create new Car\n",
    "print(v.cars_created) # print instance attribute\n",
    "print(Car.cars_created) # print class attribute"
   ],
   "metadata": {
    "collapsed": false,
    "pycharm": {
     "name": "#%%\n"
    }
   }
  },
  {
   "cell_type": "markdown",
   "source": [
    "**Static methods**\n",
    "\n",
    "A static method is a method defined in a class but with no access to instance attributes or methods.\n",
    "Static methods can be used to compute data based on static attributes.\n",
    "When a class contains only static methods it is considered as namespace."
   ],
   "metadata": {
    "collapsed": false,
    "pycharm": {
     "name": "#%% md\n"
    }
   }
  },
  {
   "cell_type": "code",
   "execution_count": 26,
   "outputs": [
    {
     "name": "stdout",
     "output_type": "stream",
     "text": [
      "32\n",
      "18.84\n"
     ]
    }
   ],
   "source": [
    "class Math:\n",
    "    pi = 3.14\n",
    "    # define static method using @staticmethod decorator\n",
    "    @staticmethod\n",
    "    def pow(a, b): # self argument is no longer needed\n",
    "        return a ** b\n",
    "\n",
    "    @staticmethod\n",
    "    def mean(seq):\n",
    "        return sum(seq) / len(seq)\n",
    "\n",
    "    @staticmethod\n",
    "    def circle_area(r):\n",
    "        return 2 * Math.pi * r # use static attributes\n",
    "\n",
    "print(Math.pow(2, 5)) # call a static method\n",
    "print(Math.circle_area(3))"
   ],
   "metadata": {
    "collapsed": false,
    "pycharm": {
     "name": "#%%\n"
    }
   }
  },
  {
   "cell_type": "markdown",
   "source": [
    "### 👩‍💻 Practice\n",
    "---\n",
    "1. Write a class that keep the track of its objects in a static list.\n",
    "\n",
    "### 🏠 Homework\n",
    "---"
   ],
   "metadata": {
    "collapsed": false,
    "pycharm": {
     "name": "#%% md\n"
    }
   }
  }
 ],
 "metadata": {
  "kernelspec": {
   "display_name": "Python 3",
   "language": "python",
   "name": "python3"
  },
  "language_info": {
   "codemirror_mode": {
    "name": "ipython",
    "version": 3
   },
   "file_extension": ".py",
   "mimetype": "text/x-python",
   "name": "python",
   "nbconvert_exporter": "python",
   "pygments_lexer": "ipython3",
   "version": "3.9.0"
  }
 },
 "nbformat": 4,
 "nbformat_minor": 4
}