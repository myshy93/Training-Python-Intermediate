{
 "cells": [
  {
   "cell_type": "markdown",
   "source": [
    "# Lecture 2 - Functional Programming\n",
    "\n",
    "### 📕 Today's Agenda\n",
    "---\n",
    " * [Static methods and class attributes](#Static-methods-and-class-attributes)\n",
    " * [Object copy](#Object-copy)\n",
    " * [Iterators](#Iterators)\n",
    " * [Generators](#Generators)\n",
    " * [Lambda functions](#Lambda-functions)\n",
    " * [List comprehension](#List-comprehension)\n",
    "\n",
    "### 🧪 Theory\n",
    "---\n",
    "### Static methods and class attributes\n",
    "**Class attributes definition**\n",
    "\n",
    "Static attributes are sharing the value with all instances. They are inherited by all child classes.\n",
    "Static attributes can be accesses also as instance attribute only if a instance attribute with same name does not exist,\n",
    "otherwise the instance attribute will be accessed."
   ],
   "metadata": {
    "collapsed": false
   }
  },
  {
   "cell_type": "code",
   "execution_count": null,
   "outputs": [],
   "source": [
    "class Connection:\n",
    "    default_port = 9000 # define and assign value for static attribute\n",
    "\n",
    "class Car:\n",
    "    cars_created = 0 # define and assign value for static attribute\n",
    "\n",
    "    def __init__(self):\n",
    "        Car.cars_created += 1 # set value for instance attribute\n",
    "        #self.cars_created = 888 # instance attributes have priority\n",
    "\n",
    "class Volvo(Car):\n",
    "\n",
    "    def __init__(self):\n",
    "        super().__init__()\n",
    "        self.x = 1\n",
    "\n",
    "v = Volvo()\n",
    "print(v.cars_created) # print instance attribute\n",
    "print(dir(v))\n",
    "v.cars_created = 4 # define and set instance attribute\n",
    "print(v.cars_created)\n",
    "print('Static value', Car.cars_created) # print class attribute\n",
    "vv = Volvo() # create new Car\n",
    "print(v.cars_created) # print instance attribute\n",
    "print(Car.cars_created) # print class attribute"
   ],
   "metadata": {
    "collapsed": false,
    "pycharm": {
     "name": "#%%\n"
    }
   }
  },
  {
   "cell_type": "markdown",
   "source": [
    "**Static methods**\n",
    "\n",
    "A static method is a method defined in a class but with no access to instance attributes or methods.\n",
    "Static methods can be used to compute data based on static attributes.\n",
    "When a class contains only static methods it is considered as namespace."
   ],
   "metadata": {
    "collapsed": false
   }
  },
  {
   "cell_type": "code",
   "execution_count": null,
   "outputs": [],
   "source": [
    "class Math:\n",
    "    pi = 3.14\n",
    "    # define static method using @staticmethod decorator\n",
    "    @staticmethod\n",
    "    def pow(a, b): # self argument is no longer needed\n",
    "        return a ** b\n",
    "\n",
    "    @staticmethod\n",
    "    def mean(seq):\n",
    "        return sum(seq) / len(seq)\n",
    "\n",
    "    @staticmethod\n",
    "    def circle_area(r):\n",
    "        return 2 * Math.pi * r # use static attributes\n",
    "\n",
    "print(Math.pow(2, 5)) # call a static method\n",
    "print(Math.circle_area(3))"
   ],
   "metadata": {
    "collapsed": false,
    "pycharm": {
     "name": "#%%\n"
    }
   }
  },
  {
   "cell_type": "markdown",
   "source": [
    "### Object copy\n",
    "\n",
    "The problem: you can not copy an object just by using equal sign."
   ],
   "metadata": {
    "collapsed": false
   }
  },
  {
   "cell_type": "code",
   "execution_count": null,
   "outputs": [],
   "source": [
    "volvo_v60 = Volvo()\n",
    "volvo_v61 = volvo_v60\n",
    "print('Are the same object?', volvo_v60 is volvo_v61)\n",
    "print('ID volvo_v60', id(volvo_v60))\n",
    "print('ID volvo_v61', id(volvo_v61))"
   ],
   "metadata": {
    "collapsed": false,
    "pycharm": {
     "name": "#%%\n"
    }
   }
  },
  {
   "cell_type": "markdown",
   "source": [
    "The solution 😊"
   ],
   "metadata": {
    "collapsed": false
   }
  },
  {
   "cell_type": "code",
   "execution_count": null,
   "outputs": [],
   "source": [
    "from copy import copy\n",
    "volvo_v70 = copy(volvo_v60)\n",
    "print('Are the same object?', volvo_v60 is volvo_v70)\n",
    "print('ID volvo_v60', id(volvo_v60))\n",
    "print('ID volvo_v70', id(volvo_v70))"
   ],
   "metadata": {
    "collapsed": false,
    "pycharm": {
     "name": "#%%\n"
    }
   }
  },
  {
   "cell_type": "markdown",
   "source": [
    "Compounded objects issue"
   ],
   "metadata": {
    "collapsed": false
   }
  },
  {
   "cell_type": "code",
   "execution_count": null,
   "outputs": [],
   "source": [
    "class User:\n",
    "    def __init__(self, first_name, last_name):\n",
    "        self.first_name = first_name\n",
    "        self.last_name = last_name\n",
    "\n",
    "class Notebook:\n",
    "    def __init__(self, title: str, owner: User):\n",
    "        self.title = title\n",
    "        self.owner = owner\n",
    "\n",
    "notebook = Notebook('Tests', User('Mihai', 'Dinu'))\n",
    "notebook_copy = copy(notebook)\n",
    "\n",
    "print('Original ID', id(notebook))\n",
    "print('Copy ID', id(notebook_copy))\n",
    "print(\"-\" * 32)\n",
    "print('Original User ID', id(notebook.owner))\n",
    "print('Copy User ID', id(notebook_copy.owner))\n",
    "print('Are them the same object?', 'Yes' if notebook_copy.owner is notebook.owner else 'No')"
   ],
   "metadata": {
    "collapsed": false,
    "pycharm": {
     "name": "#%%\n"
    }
   }
  },
  {
   "cell_type": "markdown",
   "source": [
    "Solution? Deep Copy"
   ],
   "metadata": {
    "collapsed": false
   }
  },
  {
   "cell_type": "code",
   "execution_count": null,
   "outputs": [],
   "source": [
    "from copy import deepcopy\n",
    "notebook_copy2 = deepcopy(notebook)\n",
    "print('Original ID', id(notebook))\n",
    "print('Copy ID', id(notebook_copy2))\n",
    "print(\"-\" * 32)\n",
    "print('Original User ID', id(notebook.owner))\n",
    "print('Copy User ID', id(notebook_copy2.owner))\n",
    "print('Are them the same object?', 'Yes' if notebook_copy2.owner is notebook.owner else 'No')"
   ],
   "metadata": {
    "collapsed": false,
    "pycharm": {
     "name": "#%%\n"
    }
   }
  },
  {
   "cell_type": "markdown",
   "source": [
    "In order to change the behaviour for copy and deepcopy functions for a custom class, the __copy__ and __deepcopy__ methods\n",
    "will be overwritten. This is used when you want to copy just some of attributes. Both magic methods must return a new object."
   ],
   "metadata": {
    "collapsed": false
   }
  },
  {
   "cell_type": "markdown",
   "source": [
    "### Iterators\n",
    "\n",
    "An **iterable** object is an object that implements \\_\\_iter\\_\\_, which is expected to return an **iterator** object.\n",
    "\n",
    "An iterator is an object that implements next, which is expected to return the next element of the iterable object that\n",
    "returned it, and raise a *StopIteration* exception when no more elements are available."
   ],
   "metadata": {
    "collapsed": false
   }
  },
  {
   "cell_type": "code",
   "execution_count": null,
   "outputs": [],
   "source": [
    "# basic iterable class\n",
    "\n",
    "import random\n",
    "\n",
    "class DummyIter:\n",
    "    pass\n",
    "\n",
    "class TenRandInt:\n",
    "    \"\"\"This class will return an iterator that returns 10 random integers.\"\"\"\n",
    "    def __init__(self):\n",
    "        self.count = 0\n",
    "\n",
    "    def __iter__(self):\n",
    "        return self\n",
    "\n",
    "    def __next__(self):\n",
    "        if self.count < 10:\n",
    "            self.count += 1\n",
    "            return random.randint(0, 10000)\n",
    "        else:\n",
    "            raise StopIteration # if already generated 10 ints, raise StopIteration in order to break the loop\n",
    "\n",
    "# normal class instance\n",
    "rand_ints = TenRandInt()\n",
    "\n",
    "# get iterator object for rand_ints object\n",
    "rand_ints_iter = iter(rand_ints)\n",
    "print('Iterable object:', type(rand_ints), id(rand_ints))\n",
    "print('Iterator object:', type(rand_ints_iter), id(rand_ints))\n",
    "\n",
    "# check if an object can be iterated\n",
    "try:\n",
    "    print(iter(DummyIter()))\n",
    "except TypeError as err:\n",
    "    print('[ERROR] ', err)\n",
    "\n",
    "print('DummyIter is iterable? ', hasattr(DummyIter(), '__iter__'))\n",
    "print('TenRandInt is iterable? ', hasattr(TenRandInt(), '__iter__'))\n",
    "\n",
    "print('DummyIter is an iterator? ', hasattr(DummyIter(), '__next__'))\n",
    "print('TenRandInt is an iterator? ', hasattr(TenRandInt(), '__next__'))\n",
    "\n",
    "# obtain next value from an iterator\n",
    "print('\\nValue returned by iterator:')\n",
    "print(next(rand_ints))\n",
    "\n",
    "# iterate with for through iterator elements\n",
    "print('\\nAll iterator values:')\n",
    "for i in rand_ints:\n",
    "    print(i)\n",
    "\n",
    "for i in rand_ints:\n",
    "    print(i)"
   ],
   "metadata": {
    "collapsed": false,
    "pycharm": {
     "name": "#%%\n"
    }
   }
  },
  {
   "cell_type": "markdown",
   "source": [
    "### Generators\n",
    "\n",
    "Python Generators are a special kind of functions that return a lazy iterator, so they are iterable, but unlike\n",
    "lists they don't have to hold all the values in memory due to their awesome ability to retain internal state between calls. They\n",
    "save memory, but are slower than other iterables, so there is a tradeoff.\n",
    "\n",
    "**Usages:**\n",
    " - generate number sequences in which numbers are based on previous numbers (like Fibonacci)\n",
    " - when reading file system tree\n",
    " - reading large files\n",
    " - reading stream data\n",
    " - generate infinite data sequences\n",
    "\n",
    "**Definition:**"
   ],
   "metadata": {
    "collapsed": false
   }
  },
  {
   "cell_type": "code",
   "execution_count": null,
   "outputs": [],
   "source": [
    "def fib():\n",
    "    a = 0\n",
    "    b = 1\n",
    "    while True:\n",
    "        a, b = b, a + b\n",
    "        yield b"
   ],
   "metadata": {
    "collapsed": false,
    "pycharm": {
     "name": "#%%\n"
    }
   }
  },
  {
   "cell_type": "markdown",
   "source": [
    "**Usage:**"
   ],
   "metadata": {
    "collapsed": false
   }
  },
  {
   "cell_type": "code",
   "execution_count": null,
   "outputs": [],
   "source": [
    "fib_gen = fib()\n",
    "print(type(fib_gen))\n",
    "print(next(fib_gen))\n",
    "print(next(fib_gen))\n",
    "print(next(fib_gen))\n",
    "print(next(fib_gen))\n",
    "\n",
    "for i in range(100):\n",
    "    print(next(fib_gen))"
   ],
   "metadata": {
    "collapsed": false,
    "pycharm": {
     "name": "#%%\n"
    }
   }
  },
  {
   "cell_type": "markdown",
   "source": [
    "### Lambda functions\n",
    "\n",
    "Known as in line functions or anonymous functions. They are used to make fast inline calculus or as argument to a function\n",
    "that needs a function to do something. You will see lambda functions mostly used as argument for map, filter, sort etc.\n",
    "\n",
    "**Definition:**"
   ],
   "metadata": {
    "collapsed": false
   }
  },
  {
   "cell_type": "code",
   "execution_count": null,
   "outputs": [],
   "source": [
    "lambda x: x"
   ],
   "metadata": {
    "collapsed": false,
    "pycharm": {
     "name": "#%%\n"
    }
   }
  },
  {
   "cell_type": "markdown",
   "source": [
    "- *lambda* keyword\n",
    "- argument list\n",
    "- colon sign :\n",
    "- expresion to return\n",
    "\n",
    "So in example above the lambda function will take an argument and return it as it is.\n",
    "\n",
    "**Lambda without arguments:**"
   ],
   "metadata": {
    "collapsed": false
   }
  },
  {
   "cell_type": "code",
   "execution_count": null,
   "outputs": [],
   "source": [
    "lambda: \"Hello World\" # it will return \"Hello World\"\n",
    "\n",
    "print(lambda: \"Hello World\")\n",
    "print((lambda: \"Hello World\")())"
   ],
   "metadata": {
    "collapsed": false,
    "pycharm": {
     "name": "#%%\n"
    }
   }
  },
  {
   "cell_type": "markdown",
   "source": [
    "**Lambda assignment:**"
   ],
   "metadata": {
    "collapsed": false
   }
  },
  {
   "cell_type": "code",
   "execution_count": null,
   "outputs": [],
   "source": [
    "square = lambda x: x ** 2\n",
    "print(square(23))"
   ],
   "metadata": {
    "collapsed": false,
    "pycharm": {
     "name": "#%%\n"
    }
   }
  },
  {
   "cell_type": "markdown",
   "source": [
    "**Lambda usage as argument:**"
   ],
   "metadata": {
    "collapsed": false
   }
  },
  {
   "cell_type": "code",
   "execution_count": null,
   "outputs": [],
   "source": [
    "list2 = [1, 2, 3]\n",
    "print(list(map(lambda x: x * 2, list2)))"
   ],
   "metadata": {
    "collapsed": false,
    "pycharm": {
     "name": "#%%\n"
    }
   }
  },
  {
   "cell_type": "markdown",
   "source": [
    "**Function equivalent for lambda:**"
   ],
   "metadata": {
    "collapsed": false
   }
  },
  {
   "cell_type": "code",
   "execution_count": null,
   "outputs": [],
   "source": [
    "def double(x):\n",
    "    return x * 2\n",
    "\n",
    "print(list(map(double, list2)))"
   ],
   "metadata": {
    "collapsed": false,
    "pycharm": {
     "name": "#%%\n"
    }
   }
  },
  {
   "cell_type": "markdown",
   "source": [
    "### List comprehension\n",
    "\n",
    "List comprehension is a way of generating new lists in Python starting from an existing list or an expresion.\n",
    "List comprehension works kind same as *map* function, but it does not change input list, it creates a new one.\n",
    "\n",
    "**General form:**"
   ],
   "metadata": {
    "collapsed": false
   }
  },
  {
   "cell_type": "code",
   "execution_count": null,
   "outputs": [],
   "source": [
    "l1 = [2, 4, 6, 8]\n",
    "l2 = [x for x in l1] # it creates a copy of l1"
   ],
   "metadata": {
    "collapsed": false,
    "pycharm": {
     "name": "#%%\n"
    }
   }
  },
  {
   "cell_type": "markdown",
   "source": [
    "**Syntax explanation:**\n",
    "- open bracket - [\n",
    "- what to append to the new list - *x*\n",
    "- iteration - *for x in l1*\n",
    "- closing bracket - ]"
   ],
   "metadata": {
    "collapsed": false
   }
  },
  {
   "cell_type": "code",
   "execution_count": null,
   "outputs": [],
   "source": [
    "l3 = [x * 2 for x in l1] # it creates a copy of l1 but each element if multiplied by 2\n",
    "print(l3)"
   ],
   "metadata": {
    "collapsed": false,
    "pycharm": {
     "name": "#%%\n"
    }
   }
  },
  {
   "cell_type": "markdown",
   "source": [
    "**Explicit version:**"
   ],
   "metadata": {
    "collapsed": false
   }
  },
  {
   "cell_type": "code",
   "execution_count": null,
   "outputs": [],
   "source": [
    "l4 = []\n",
    "for x in l1:\n",
    "    l4.append(x * 2)\n",
    "print(l4)"
   ],
   "metadata": {
    "collapsed": false,
    "pycharm": {
     "name": "#%%\n"
    }
   }
  },
  {
   "cell_type": "markdown",
   "source": [
    "**Used for filtering with *if*:**"
   ],
   "metadata": {
    "collapsed": false
   }
  },
  {
   "cell_type": "code",
   "execution_count": null,
   "outputs": [],
   "source": [
    "l5 = [x for x in l4 if not x % 3]\n",
    "print(l5)"
   ],
   "metadata": {
    "collapsed": false,
    "pycharm": {
     "name": "#%%\n"
    }
   }
  },
  {
   "cell_type": "markdown",
   "source": [
    "**Explicit form for filtering with *if*:**"
   ],
   "metadata": {
    "collapsed": false
   }
  },
  {
   "cell_type": "code",
   "execution_count": null,
   "outputs": [],
   "source": [
    "l6 = []\n",
    "for x in l4:\n",
    "    if not x % 3:\n",
    "        l6.append(x)\n",
    "\n",
    "print(l6)"
   ],
   "metadata": {
    "collapsed": false,
    "pycharm": {
     "name": "#%%\n"
    }
   }
  },
  {
   "cell_type": "markdown",
   "source": [
    "**Double *for* compression:**"
   ],
   "metadata": {
    "collapsed": false
   }
  },
  {
   "cell_type": "code",
   "execution_count": null,
   "outputs": [],
   "source": [
    "matrix = [\n",
    "    [1, 2, 3],\n",
    "    [4, 5, 6],\n",
    "    [7, 8, 9]\n",
    "]\n",
    "\n",
    "flat_matrix = [x for line in matrix for x in line]\n",
    "print(flat_matrix)"
   ],
   "metadata": {
    "collapsed": false,
    "pycharm": {
     "name": "#%%\n"
    }
   }
  },
  {
   "cell_type": "markdown",
   "source": [
    "**Explicit double *for*:**"
   ],
   "metadata": {
    "collapsed": false
   }
  },
  {
   "cell_type": "code",
   "execution_count": null,
   "outputs": [],
   "source": [
    "flat_matrix2 = []\n",
    "for line in matrix:\n",
    "    for x in line:\n",
    "        flat_matrix2.append(x)\n",
    "print(flat_matrix2)"
   ],
   "metadata": {
    "collapsed": false,
    "pycharm": {
     "name": "#%%\n"
    }
   }
  },
  {
   "cell_type": "markdown",
   "source": [
    "### 👩‍💻 Practice\n",
    "---\n",
    "1. Write a class that keeps track of its objects in a static list.\n",
    "2. Write a class which overwrites the \\_\\_copy\\_\\_ method so you can check if an object has copies.\n",
    "```python\n",
    "shop = Shop()\n",
    "shop_copy = copy(shop)\n",
    "shop.has_copies() -> bool\n",
    "```\n",
    "3. Write a class that represents english alphabet and make it iterable so you can do *for* over this class and get each alphabet letter.\n",
    "4. Write a lambda function that test if a number if even, will return a bool. Use this lambda as argument for\n",
    "*filter* function to extract a list of even numbers from a given list.\n",
    "5. Write a list comprehension to solve point 4.\n",
    "\n",
    "### 🏠 Homework\n",
    "---\n",
    "1. Write a script that reads a [file](cnps.txt) containing CNP's using generators, so each line should be yielded.\n",
    " - check for CNP validity\n",
    " - calculate men's age mean\n",
    " - calculate women's age mean\n",
    " - print CNP for all under mean mens"
   ],
   "metadata": {
    "collapsed": false
   }
  }
 ],
 "metadata": {
  "kernelspec": {
   "display_name": "Python 3",
   "language": "python",
   "name": "python3"
  },
  "language_info": {
   "codemirror_mode": {
    "name": "ipython",
    "version": 3
   },
   "file_extension": ".py",
   "mimetype": "text/x-python",
   "name": "python",
   "nbconvert_exporter": "python",
   "pygments_lexer": "ipython3",
   "version": "3.9.0"
  }
 },
 "nbformat": 4,
 "nbformat_minor": 4
}