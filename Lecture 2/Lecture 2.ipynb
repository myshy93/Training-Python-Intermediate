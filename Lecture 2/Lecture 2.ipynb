{
 "cells": [
  {
   "cell_type": "markdown",
   "metadata": {},
   "source": [
    "# Lecture 2 - Functional Programming\n",
    "\n",
    "### 📕 Today's Agenda\n",
    "---\n",
    " * Objects and Classes - recap\n",
    " * Constructors\n",
    " * Single and multiple inheritance\n",
    " * MRO - Method resolution order\n",
    " * Overwriting\n",
    " * Properties - setters and getters\n",
    " * Magic methods\n",
    "\n",
    "### 🧪 Theory\n",
    "---\n",
    "\n",
    "### 👩‍💻 Practice\n",
    "---\n",
    "\n",
    "### 🏠 Homework\n",
    "---"
   ]
  }
 ],
 "metadata": {
  "kernelspec": {
   "display_name": "Python 3",
   "language": "python",
   "name": "python3"
  },
  "language_info": {
   "codemirror_mode": {
    "name": "ipython",
    "version": 3
   },
   "file_extension": ".py",
   "mimetype": "text/x-python",
   "name": "python",
   "nbconvert_exporter": "python",
   "pygments_lexer": "ipython3",
   "version": "3.9.0"
  }
 },
 "nbformat": 4,
 "nbformat_minor": 4
}
