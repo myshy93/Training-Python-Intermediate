{
 "cells": [
  {
   "cell_type": "markdown",
   "metadata": {},
   "source": [
    "# Lecture 2 - Functional Programming\n",
    "\n",
    "### 📕 Today's Agenda\n",
    "---\n",
    " * Static methods and class attributes\n",
    " * Object copy\n",
    " * Iterators\n",
    " * Generators\n",
    " * Lambda functions\n",
    " * List comprehension\n",
    "\n",
    "### 🧪 Theory\n",
    "---\n",
    "### Static classes and class attributes\n",
    "**Class attributes definition**\n",
    "\n",
    "Static attributes are sharing the value with all instances. They are inherited by all child classes.\n",
    "Static attributes can be accesses also as instance attribute only if a instance attribute with same name does not exist,\n",
    "otherwise the instance attribute will be accessed."
   ]
  },
  {
   "cell_type": "code",
   "execution_count": 24,
   "outputs": [
    {
     "name": "stdout",
     "output_type": "stream",
     "text": [
      "1\n",
      "['__class__', '__delattr__', '__dict__', '__dir__', '__doc__', '__eq__', '__format__', '__ge__', '__getattribute__', '__gt__', '__hash__', '__init__', '__init_subclass__', '__le__', '__lt__', '__module__', '__ne__', '__new__', '__reduce__', '__reduce_ex__', '__repr__', '__setattr__', '__sizeof__', '__str__', '__subclasshook__', '__weakref__', 'cars_created', 'x']\n",
      "4\n",
      "Static value 1\n",
      "4\n",
      "2\n"
     ]
    }
   ],
   "source": [
    "class Connection:\n",
    "    default_port = 9000 # define and assign value for static attribute\n",
    "\n",
    "class Car:\n",
    "    cars_created = 0 # define and assign value for static attribute\n",
    "\n",
    "    def __init__(self):\n",
    "        Car.cars_created += 1 # set value for instance attribute\n",
    "        #self.cars_created = 888 # instance attributes have priority\n",
    "\n",
    "class Volvo(Car):\n",
    "\n",
    "    def __init__(self):\n",
    "        super().__init__()\n",
    "        self.x = 1\n",
    "\n",
    "v = Volvo()\n",
    "print(v.cars_created) # print instance attribute\n",
    "print(dir(v))\n",
    "v.cars_created = 4 # define and set instance attribute\n",
    "print(v.cars_created)\n",
    "print('Static value', Car.cars_created) # print class attribute\n",
    "vv = Volvo() # create new Car\n",
    "print(v.cars_created) # print instance attribute\n",
    "print(Car.cars_created) # print class attribute"
   ],
   "metadata": {
    "collapsed": false,
    "pycharm": {
     "name": "#%%\n"
    }
   }
  },
  {
   "cell_type": "markdown",
   "source": [
    "**Static methods**\n",
    "\n",
    "A static method is a method defined in a class but with no access to instance attributes or methods.\n",
    "Static methods can be used to compute data based on static attributes.\n",
    "When a class contains only static methods it is considered as namespace."
   ],
   "metadata": {
    "collapsed": false,
    "pycharm": {
     "name": "#%% md\n"
    }
   }
  },
  {
   "cell_type": "code",
   "execution_count": 26,
   "outputs": [
    {
     "name": "stdout",
     "output_type": "stream",
     "text": [
      "32\n",
      "18.84\n"
     ]
    }
   ],
   "source": [
    "class Math:\n",
    "    pi = 3.14\n",
    "    # define static method using @staticmethod decorator\n",
    "    @staticmethod\n",
    "    def pow(a, b): # self argument is no longer needed\n",
    "        return a ** b\n",
    "\n",
    "    @staticmethod\n",
    "    def mean(seq):\n",
    "        return sum(seq) / len(seq)\n",
    "\n",
    "    @staticmethod\n",
    "    def circle_area(r):\n",
    "        return 2 * Math.pi * r # use static attributes\n",
    "\n",
    "print(Math.pow(2, 5)) # call a static method\n",
    "print(Math.circle_area(3))"
   ],
   "metadata": {
    "collapsed": false,
    "pycharm": {
     "name": "#%%\n"
    }
   }
  },
  {
   "cell_type": "markdown",
   "source": [
    "**Object copy**\n",
    "\n",
    "The problem: you can not copy an object just by using equal sign."
   ],
   "metadata": {
    "collapsed": false,
    "pycharm": {
     "name": "#%% md\n"
    }
   }
  },
  {
   "cell_type": "code",
   "execution_count": 30,
   "outputs": [
    {
     "name": "stdout",
     "output_type": "stream",
     "text": [
      "Are the same object? True\n",
      "ID volvo_v60 2195358368384\n",
      "ID volvo_v61 2195358368384\n"
     ]
    }
   ],
   "source": [
    "volvo_v60 = Volvo()\n",
    "volvo_v61 = volvo_v60\n",
    "print('Are the same object?', volvo_v60 is volvo_v61)\n",
    "print('ID volvo_v60', id(volvo_v60))\n",
    "print('ID volvo_v61', id(volvo_v61))"
   ],
   "metadata": {
    "collapsed": false,
    "pycharm": {
     "name": "#%%\n"
    }
   }
  },
  {
   "cell_type": "markdown",
   "source": [
    "The solution 😊"
   ],
   "metadata": {
    "collapsed": false,
    "pycharm": {
     "name": "#%% md\n"
    }
   }
  },
  {
   "cell_type": "code",
   "execution_count": 31,
   "outputs": [
    {
     "name": "stdout",
     "output_type": "stream",
     "text": [
      "Are the same object? False\n",
      "ID volvo_v60 2195358368384\n",
      "ID volvo_v61 2195352290976\n"
     ]
    }
   ],
   "source": [
    "from copy import copy\n",
    "volvo_v70 = copy(volvo_v60)\n",
    "print('Are the same object?', volvo_v60 is volvo_v70)\n",
    "print('ID volvo_v60', id(volvo_v60))\n",
    "print('ID volvo_v70', id(volvo_v70))"
   ],
   "metadata": {
    "collapsed": false,
    "pycharm": {
     "name": "#%%\n"
    }
   }
  },
  {
   "cell_type": "markdown",
   "source": [
    "Compounded objects issue"
   ],
   "metadata": {
    "collapsed": false,
    "pycharm": {
     "name": "#%% md\n"
    }
   }
  },
  {
   "cell_type": "code",
   "execution_count": 36,
   "outputs": [
    {
     "name": "stdout",
     "output_type": "stream",
     "text": [
      "Original ID 2195352327696\n",
      "Copy ID 2195352329568\n",
      "--------------------------------\n",
      "Original User ID 2195358517040\n",
      "Copy User ID 2195358517040\n",
      "Are they the same object? Yes\n"
     ]
    }
   ],
   "source": [
    "class User:\n",
    "    def __init__(self, first_name, last_name):\n",
    "        self.first_name = first_name\n",
    "        self.last_name = last_name\n",
    "\n",
    "class Notebook:\n",
    "    def __init__(self, title: str, owner: User):\n",
    "        self.title = title\n",
    "        self.owner = owner\n",
    "\n",
    "notebook = Notebook('Tests', User('Mihai', 'Dinu'))\n",
    "notebook_copy = copy(notebook)\n",
    "\n",
    "print('Original ID', id(notebook))\n",
    "print('Copy ID', id(notebook_copy))\n",
    "print(\"-\" * 32)\n",
    "print('Original User ID', id(notebook.owner))\n",
    "print('Copy User ID', id(notebook_copy.owner))\n",
    "print('Are them the same object?', 'Yes' if notebook_copy.owner is notebook.owner else 'No')"
   ],
   "metadata": {
    "collapsed": false,
    "pycharm": {
     "name": "#%%\n"
    }
   }
  },
  {
   "cell_type": "markdown",
   "source": [
    "Solution? Deep Copy"
   ],
   "metadata": {
    "collapsed": false,
    "pycharm": {
     "name": "#%% md\n"
    }
   }
  },
  {
   "cell_type": "code",
   "execution_count": 37,
   "outputs": [
    {
     "name": "stdout",
     "output_type": "stream",
     "text": [
      "Original ID 2195352327696\n",
      "Copy ID 2195345405600\n",
      "--------------------------------\n",
      "Original User ID 2195358517040\n",
      "Copy User ID 2195345406272\n",
      "Are them the same object? No\n"
     ]
    }
   ],
   "source": [
    "from copy import deepcopy\n",
    "notebook_copy2 = deepcopy(notebook)\n",
    "print('Original ID', id(notebook))\n",
    "print('Copy ID', id(notebook_copy2))\n",
    "print(\"-\" * 32)\n",
    "print('Original User ID', id(notebook.owner))\n",
    "print('Copy User ID', id(notebook_copy2.owner))\n",
    "print('Are them the same object?', 'Yes' if notebook_copy2.owner is notebook.owner else 'No')"
   ],
   "metadata": {
    "collapsed": false,
    "pycharm": {
     "name": "#%%\n"
    }
   }
  },
  {
   "cell_type": "markdown",
   "source": [
    "In order to change the behaviour for copy and deepcopy functions for a custom class, the __copy__ and __deepcopy__ methods\n",
    "will be overwritten. This is used when you want to copy just some of attributes. Both magic methods must return a new object."
   ],
   "metadata": {
    "collapsed": false,
    "pycharm": {
     "name": "#%% md\n"
    }
   }
  },
  {
   "cell_type": "markdown",
   "source": [
    "**Iterators**\n",
    "\n",
    "An **iterable** object is an object that implements \\_\\_iter\\_\\_, which is expected to return an **iterator** object.\n",
    "\n",
    "An iterator is an object that implements next, which is expected to return the next element of the iterable object that\n",
    "returned it, and raise a *StopIteration* exception when no more elements are available."
   ],
   "metadata": {
    "collapsed": false,
    "pycharm": {
     "name": "#%% md\n"
    }
   }
  },
  {
   "cell_type": "code",
   "execution_count": 18,
   "outputs": [
    {
     "name": "stdout",
     "output_type": "stream",
     "text": [
      "Iterable object: <class '__main__.TenRandInt'> 1323680790800\n",
      "Iterator object: <class '__main__.TenRandInt'> 1323680790800\n",
      "[ERROR]  'DummyIter' object is not iterable\n",
      "DummyIter is iterable?  False\n",
      "TenRandInt is iterable?  True\n",
      "DummyIter is an iterator?  False\n",
      "TenRandInt is an iterator?  True\n",
      "\n",
      "Value returned by iterator:\n",
      "737\n",
      "\n",
      "All iterator values:\n",
      "9869\n",
      "2027\n",
      "2549\n",
      "6790\n",
      "3721\n",
      "7041\n",
      "7963\n",
      "3873\n",
      "7973\n"
     ]
    }
   ],
   "source": [
    "# basic iterable class\n",
    "\n",
    "import random\n",
    "\n",
    "class DummyIter:\n",
    "    pass\n",
    "\n",
    "class TenRandInt:\n",
    "    \"\"\"This class will return an iterator that returns 10 random integers.\"\"\"\n",
    "    def __init__(self):\n",
    "        self.count = 0\n",
    "\n",
    "    def __iter__(self):\n",
    "        return self\n",
    "\n",
    "    def __next__(self):\n",
    "        if self.count < 10:\n",
    "            self.count += 1\n",
    "            return random.randint(0, 10000)\n",
    "        else:\n",
    "            raise StopIteration # if already generated 10 ints, raise StopIteration in order to break the loop\n",
    "\n",
    "# normal class instance\n",
    "rand_ints = TenRandInt()\n",
    "\n",
    "# get iterator object for rand_ints object\n",
    "rand_ints_iter = iter(rand_ints)\n",
    "print('Iterable object:', type(rand_ints), id(rand_ints))\n",
    "print('Iterator object:', type(rand_ints_iter), id(rand_ints))\n",
    "\n",
    "# check if an object can be iterated\n",
    "try:\n",
    "    print(iter(DummyIter()))\n",
    "except TypeError as err:\n",
    "    print('[ERROR] ', err)\n",
    "\n",
    "print('DummyIter is iterable? ', hasattr(DummyIter(), '__iter__'))\n",
    "print('TenRandInt is iterable? ', hasattr(TenRandInt(), '__iter__'))\n",
    "\n",
    "print('DummyIter is an iterator? ', hasattr(DummyIter(), '__next__'))\n",
    "print('TenRandInt is an iterator? ', hasattr(TenRandInt(), '__next__'))\n",
    "\n",
    "# obtain next value from an iterator\n",
    "print('\\nValue returned by iterator:')\n",
    "print(next(rand_ints))\n",
    "\n",
    "# iterate with for through iterator elements\n",
    "print('\\nAll iterator values:')\n",
    "for i in rand_ints:\n",
    "    print(i)"
   ],
   "metadata": {
    "collapsed": false,
    "pycharm": {
     "name": "#%%\n"
    }
   }
  },
  {
   "cell_type": "markdown",
   "source": [
    "### 👩‍💻 Practice\n",
    "---\n",
    "1. Write a class that keeps track of its objects in a static list.\n",
    "2. Write a class which overwrites the __copy__ method so you can check if an object has copies.\n",
    "```python\n",
    "shop = Shop()\n",
    "shop_copy = copy(shop)\n",
    "shop.has_copies() -> bool\n",
    "```\n",
    "3. Write a class that represents english alphabet and make it iterable so you can do *for* over this class and get each alphabet letter.\n",
    "\n",
    "### 🏠 Homework\n",
    "---"
   ],
   "metadata": {
    "collapsed": false,
    "pycharm": {
     "name": "#%% md\n"
    }
   }
  }
 ],
 "metadata": {
  "kernelspec": {
   "display_name": "Python 3",
   "language": "python",
   "name": "python3"
  },
  "language_info": {
   "codemirror_mode": {
    "name": "ipython",
    "version": 3
   },
   "file_extension": ".py",
   "mimetype": "text/x-python",
   "name": "python",
   "nbconvert_exporter": "python",
   "pygments_lexer": "ipython3",
   "version": "3.9.0"
  }
 },
 "nbformat": 4,
 "nbformat_minor": 4
}