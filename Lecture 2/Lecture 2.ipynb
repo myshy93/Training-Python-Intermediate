{
 "cells": [
  {
   "cell_type": "markdown",
   "metadata": {},
   "source": [
    "# Lecture 2 - Functional Programming\n",
    "\n",
    "### 📕 Today's Agenda\n",
    "---\n",
    " * Static methods and class attributes\n",
    " * Object copy\n",
    " * Iterators\n",
    " * Generators\n",
    " * Lambda functions\n",
    " * List comprehension\n",
    "\n",
    "### 🧪 Theory\n",
    "---\n",
    "### Static classes and class attributes\n",
    "**Class attributes definition**\n",
    "\n",
    "Static attributes are sharing the value with all instances. They are inherited by all child classes.\n",
    "Static attributes can be accesses also as instance attribute only if a instance attribute with same name does not exist,\n",
    "otherwise the instance attribute will be accessed."
   ]
  },
  {
   "cell_type": "code",
   "execution_count": 34,
   "outputs": [
    {
     "name": "stdout",
     "output_type": "stream",
     "text": [
      "1\n",
      "['__class__', '__delattr__', '__dict__', '__dir__', '__doc__', '__eq__', '__format__', '__ge__', '__getattribute__', '__gt__', '__hash__', '__init__', '__init_subclass__', '__le__', '__lt__', '__module__', '__ne__', '__new__', '__reduce__', '__reduce_ex__', '__repr__', '__setattr__', '__sizeof__', '__str__', '__subclasshook__', '__weakref__', 'cars_created', 'x']\n",
      "4\n",
      "Static value 1\n",
      "4\n",
      "2\n"
     ]
    }
   ],
   "source": [
    "class Connection:\n",
    "    default_port = 9000 # define and assign value for static attribute\n",
    "\n",
    "class Car:\n",
    "    cars_created = 0 # define and assign value for static attribute\n",
    "\n",
    "    def __init__(self):\n",
    "        Car.cars_created += 1 # set value for instance attribute\n",
    "        #self.cars_created = 888 # instance attributes have priority\n",
    "\n",
    "class Volvo(Car):\n",
    "\n",
    "    def __init__(self):\n",
    "        super().__init__()\n",
    "        self.x = 1\n",
    "\n",
    "v = Volvo()\n",
    "print(v.cars_created) # print instance attribute\n",
    "print(dir(v))\n",
    "v.cars_created = 4 # define and set instance attribute\n",
    "print(v.cars_created)\n",
    "print('Static value', Car.cars_created) # print class attribute\n",
    "vv = Volvo() # create new Car\n",
    "print(v.cars_created) # print instance attribute\n",
    "print(Car.cars_created) # print class attribute"
   ],
   "metadata": {
    "collapsed": false,
    "pycharm": {
     "name": "#%%\n"
    }
   }
  },
  {
   "cell_type": "markdown",
   "source": [
    "**Static methods**\n",
    "\n",
    "A static method is a method defined in a class but with no access to instance attributes or methods.\n",
    "Static methods can be used to compute data based on static attributes.\n",
    "When a class contains only static methods it is considered as namespace."
   ],
   "metadata": {
    "collapsed": false,
    "pycharm": {
     "name": "#%% md\n"
    }
   }
  },
  {
   "cell_type": "code",
   "execution_count": 35,
   "outputs": [
    {
     "name": "stdout",
     "output_type": "stream",
     "text": [
      "32\n",
      "18.84\n"
     ]
    }
   ],
   "source": [
    "class Math:\n",
    "    pi = 3.14\n",
    "    # define static method using @staticmethod decorator\n",
    "    @staticmethod\n",
    "    def pow(a, b): # self argument is no longer needed\n",
    "        return a ** b\n",
    "\n",
    "    @staticmethod\n",
    "    def mean(seq):\n",
    "        return sum(seq) / len(seq)\n",
    "\n",
    "    @staticmethod\n",
    "    def circle_area(r):\n",
    "        return 2 * Math.pi * r # use static attributes\n",
    "\n",
    "print(Math.pow(2, 5)) # call a static method\n",
    "print(Math.circle_area(3))"
   ],
   "metadata": {
    "collapsed": false,
    "pycharm": {
     "name": "#%%\n"
    }
   }
  },
  {
   "cell_type": "markdown",
   "source": [
    "**Object copy**\n",
    "\n",
    "The problem: you can not copy an object just by using equal sign."
   ],
   "metadata": {
    "collapsed": false,
    "pycharm": {
     "name": "#%% md\n"
    }
   }
  },
  {
   "cell_type": "code",
   "execution_count": 36,
   "outputs": [
    {
     "name": "stdout",
     "output_type": "stream",
     "text": [
      "Are the same object? True\n",
      "ID volvo_v60 1323680444032\n",
      "ID volvo_v61 1323680444032\n"
     ]
    }
   ],
   "source": [
    "volvo_v60 = Volvo()\n",
    "volvo_v61 = volvo_v60\n",
    "print('Are the same object?', volvo_v60 is volvo_v61)\n",
    "print('ID volvo_v60', id(volvo_v60))\n",
    "print('ID volvo_v61', id(volvo_v61))"
   ],
   "metadata": {
    "collapsed": false,
    "pycharm": {
     "name": "#%%\n"
    }
   }
  },
  {
   "cell_type": "markdown",
   "source": [
    "The solution 😊"
   ],
   "metadata": {
    "collapsed": false,
    "pycharm": {
     "name": "#%% md\n"
    }
   }
  },
  {
   "cell_type": "code",
   "execution_count": 37,
   "outputs": [
    {
     "name": "stdout",
     "output_type": "stream",
     "text": [
      "Are the same object? False\n",
      "ID volvo_v60 1323680444032\n",
      "ID volvo_v70 1323676867840\n"
     ]
    }
   ],
   "source": [
    "from copy import copy\n",
    "volvo_v70 = copy(volvo_v60)\n",
    "print('Are the same object?', volvo_v60 is volvo_v70)\n",
    "print('ID volvo_v60', id(volvo_v60))\n",
    "print('ID volvo_v70', id(volvo_v70))"
   ],
   "metadata": {
    "collapsed": false,
    "pycharm": {
     "name": "#%%\n"
    }
   }
  },
  {
   "cell_type": "markdown",
   "source": [
    "Compounded objects issue"
   ],
   "metadata": {
    "collapsed": false,
    "pycharm": {
     "name": "#%% md\n"
    }
   }
  },
  {
   "cell_type": "code",
   "execution_count": 38,
   "outputs": [
    {
     "name": "stdout",
     "output_type": "stream",
     "text": [
      "Original ID 1323677035152\n",
      "Copy ID 1323675838784\n",
      "--------------------------------\n",
      "Original User ID 1323677036064\n",
      "Copy User ID 1323677036064\n",
      "Are them the same object? Yes\n"
     ]
    }
   ],
   "source": [
    "class User:\n",
    "    def __init__(self, first_name, last_name):\n",
    "        self.first_name = first_name\n",
    "        self.last_name = last_name\n",
    "\n",
    "class Notebook:\n",
    "    def __init__(self, title: str, owner: User):\n",
    "        self.title = title\n",
    "        self.owner = owner\n",
    "\n",
    "notebook = Notebook('Tests', User('Mihai', 'Dinu'))\n",
    "notebook_copy = copy(notebook)\n",
    "\n",
    "print('Original ID', id(notebook))\n",
    "print('Copy ID', id(notebook_copy))\n",
    "print(\"-\" * 32)\n",
    "print('Original User ID', id(notebook.owner))\n",
    "print('Copy User ID', id(notebook_copy.owner))\n",
    "print('Are them the same object?', 'Yes' if notebook_copy.owner is notebook.owner else 'No')"
   ],
   "metadata": {
    "collapsed": false,
    "pycharm": {
     "name": "#%%\n"
    }
   }
  },
  {
   "cell_type": "markdown",
   "source": [
    "Solution? Deep Copy"
   ],
   "metadata": {
    "collapsed": false,
    "pycharm": {
     "name": "#%% md\n"
    }
   }
  },
  {
   "cell_type": "code",
   "execution_count": 39,
   "outputs": [
    {
     "name": "stdout",
     "output_type": "stream",
     "text": [
      "Original ID 1323677035152\n",
      "Copy ID 1323677528368\n",
      "--------------------------------\n",
      "Original User ID 1323677036064\n",
      "Copy User ID 1323677531440\n",
      "Are them the same object? No\n"
     ]
    }
   ],
   "source": [
    "from copy import deepcopy\n",
    "notebook_copy2 = deepcopy(notebook)\n",
    "print('Original ID', id(notebook))\n",
    "print('Copy ID', id(notebook_copy2))\n",
    "print(\"-\" * 32)\n",
    "print('Original User ID', id(notebook.owner))\n",
    "print('Copy User ID', id(notebook_copy2.owner))\n",
    "print('Are them the same object?', 'Yes' if notebook_copy2.owner is notebook.owner else 'No')"
   ],
   "metadata": {
    "collapsed": false,
    "pycharm": {
     "name": "#%%\n"
    }
   }
  },
  {
   "cell_type": "markdown",
   "source": [
    "In order to change the behaviour for copy and deepcopy functions for a custom class, the __copy__ and __deepcopy__ methods\n",
    "will be overwritten. This is used when you want to copy just some of attributes. Both magic methods must return a new object."
   ],
   "metadata": {
    "collapsed": false,
    "pycharm": {
     "name": "#%% md\n"
    }
   }
  },
  {
   "cell_type": "markdown",
   "source": [
    "**Iterators**\n",
    "\n",
    "An **iterable** object is an object that implements \\_\\_iter\\_\\_, which is expected to return an **iterator** object.\n",
    "\n",
    "An iterator is an object that implements next, which is expected to return the next element of the iterable object that\n",
    "returned it, and raise a *StopIteration* exception when no more elements are available."
   ],
   "metadata": {
    "collapsed": false,
    "pycharm": {
     "name": "#%% md\n"
    }
   }
  },
  {
   "cell_type": "code",
   "execution_count": 40,
   "outputs": [
    {
     "name": "stdout",
     "output_type": "stream",
     "text": [
      "Iterable object: <class '__main__.TenRandInt'> 1323675383696\n",
      "Iterator object: <class '__main__.TenRandInt'> 1323675383696\n",
      "[ERROR]  'DummyIter' object is not iterable\n",
      "DummyIter is iterable?  False\n",
      "TenRandInt is iterable?  True\n",
      "DummyIter is an iterator?  False\n",
      "TenRandInt is an iterator?  True\n",
      "\n",
      "Value returned by iterator:\n",
      "6657\n",
      "\n",
      "All iterator values:\n",
      "9696\n",
      "206\n",
      "1250\n",
      "1604\n",
      "1492\n",
      "7640\n",
      "2405\n",
      "6565\n",
      "32\n"
     ]
    }
   ],
   "source": [
    "# basic iterable class\n",
    "\n",
    "import random\n",
    "\n",
    "class DummyIter:\n",
    "    pass\n",
    "\n",
    "class TenRandInt:\n",
    "    \"\"\"This class will return an iterator that returns 10 random integers.\"\"\"\n",
    "    def __init__(self):\n",
    "        self.count = 0\n",
    "\n",
    "    def __iter__(self):\n",
    "        return self\n",
    "\n",
    "    def __next__(self):\n",
    "        if self.count < 10:\n",
    "            self.count += 1\n",
    "            return random.randint(0, 10000)\n",
    "        else:\n",
    "            raise StopIteration # if already generated 10 ints, raise StopIteration in order to break the loop\n",
    "\n",
    "# normal class instance\n",
    "rand_ints = TenRandInt()\n",
    "\n",
    "# get iterator object for rand_ints object\n",
    "rand_ints_iter = iter(rand_ints)\n",
    "print('Iterable object:', type(rand_ints), id(rand_ints))\n",
    "print('Iterator object:', type(rand_ints_iter), id(rand_ints))\n",
    "\n",
    "# check if an object can be iterated\n",
    "try:\n",
    "    print(iter(DummyIter()))\n",
    "except TypeError as err:\n",
    "    print('[ERROR] ', err)\n",
    "\n",
    "print('DummyIter is iterable? ', hasattr(DummyIter(), '__iter__'))\n",
    "print('TenRandInt is iterable? ', hasattr(TenRandInt(), '__iter__'))\n",
    "\n",
    "print('DummyIter is an iterator? ', hasattr(DummyIter(), '__next__'))\n",
    "print('TenRandInt is an iterator? ', hasattr(TenRandInt(), '__next__'))\n",
    "\n",
    "# obtain next value from an iterator\n",
    "print('\\nValue returned by iterator:')\n",
    "print(next(rand_ints))\n",
    "\n",
    "# iterate with for through iterator elements\n",
    "print('\\nAll iterator values:')\n",
    "for i in rand_ints:\n",
    "    print(i)\n",
    "\n",
    "for i in rand_ints:\n",
    "    print(i)"
   ],
   "metadata": {
    "collapsed": false,
    "pycharm": {
     "name": "#%%\n"
    }
   }
  },
  {
   "cell_type": "markdown",
   "source": [
    "**Generators**\n",
    "\n",
    "Python Generators are a special kind of functions that return a lazy iterator, so they are iterable, but unlike\n",
    "lists they don't have to hold all the values in memory due to their awesome ability to retain internal state between calls. They\n",
    "save memory, but are slower than other iterables, so there is a tradeoff.\n",
    "\n",
    "Usages:\n",
    " - generate number sequences in which numbers are based on previous numbers (like Fibonacci)\n",
    " - when reading file system tree\n",
    " - reading large files\n",
    " - reading stream data\n",
    " - generate infinite data sequences\n",
    "\n",
    "Definition:"
   ],
   "metadata": {
    "collapsed": false,
    "pycharm": {
     "name": "#%% md\n"
    }
   }
  },
  {
   "cell_type": "code",
   "execution_count": 41,
   "outputs": [],
   "source": [
    "def fib():\n",
    "    a = 0\n",
    "    b = 1\n",
    "    while True:\n",
    "        a, b = b, a + b\n",
    "        yield b"
   ],
   "metadata": {
    "collapsed": false,
    "pycharm": {
     "name": "#%%\n"
    }
   }
  },
  {
   "cell_type": "markdown",
   "source": [
    "Usage:"
   ],
   "metadata": {
    "collapsed": false,
    "pycharm": {
     "name": "#%% md\n"
    }
   }
  },
  {
   "cell_type": "code",
   "execution_count": 42,
   "outputs": [
    {
     "name": "stdout",
     "output_type": "stream",
     "text": [
      "<class 'generator'>\n",
      "1\n",
      "2\n",
      "3\n",
      "5\n",
      "8\n",
      "13\n",
      "21\n",
      "34\n",
      "55\n",
      "89\n",
      "144\n",
      "233\n",
      "377\n",
      "610\n",
      "987\n",
      "1597\n",
      "2584\n",
      "4181\n",
      "6765\n",
      "10946\n",
      "17711\n",
      "28657\n",
      "46368\n",
      "75025\n",
      "121393\n",
      "196418\n",
      "317811\n",
      "514229\n",
      "832040\n",
      "1346269\n",
      "2178309\n",
      "3524578\n",
      "5702887\n",
      "9227465\n",
      "14930352\n",
      "24157817\n",
      "39088169\n",
      "63245986\n",
      "102334155\n",
      "165580141\n",
      "267914296\n",
      "433494437\n",
      "701408733\n",
      "1134903170\n",
      "1836311903\n",
      "2971215073\n",
      "4807526976\n",
      "7778742049\n",
      "12586269025\n",
      "20365011074\n",
      "32951280099\n",
      "53316291173\n",
      "86267571272\n",
      "139583862445\n",
      "225851433717\n",
      "365435296162\n",
      "591286729879\n",
      "956722026041\n",
      "1548008755920\n",
      "2504730781961\n",
      "4052739537881\n",
      "6557470319842\n",
      "10610209857723\n",
      "17167680177565\n",
      "27777890035288\n",
      "44945570212853\n",
      "72723460248141\n",
      "117669030460994\n",
      "190392490709135\n",
      "308061521170129\n",
      "498454011879264\n",
      "806515533049393\n",
      "1304969544928657\n",
      "2111485077978050\n",
      "3416454622906707\n",
      "5527939700884757\n",
      "8944394323791464\n",
      "14472334024676221\n",
      "23416728348467685\n",
      "37889062373143906\n",
      "61305790721611591\n",
      "99194853094755497\n",
      "160500643816367088\n",
      "259695496911122585\n",
      "420196140727489673\n",
      "679891637638612258\n",
      "1100087778366101931\n",
      "1779979416004714189\n",
      "2880067194370816120\n",
      "4660046610375530309\n",
      "7540113804746346429\n",
      "12200160415121876738\n",
      "19740274219868223167\n",
      "31940434634990099905\n",
      "51680708854858323072\n",
      "83621143489848422977\n",
      "135301852344706746049\n",
      "218922995834555169026\n",
      "354224848179261915075\n",
      "573147844013817084101\n",
      "927372692193078999176\n",
      "1500520536206896083277\n",
      "2427893228399975082453\n",
      "3928413764606871165730\n"
     ]
    }
   ],
   "source": [
    "fib_gen = fib()\n",
    "print(type(fib_gen))\n",
    "print(next(fib_gen))\n",
    "print(next(fib_gen))\n",
    "print(next(fib_gen))\n",
    "print(next(fib_gen))\n",
    "\n",
    "for i in range(100):\n",
    "    print(next(fib_gen))\n",
    "\n"
   ],
   "metadata": {
    "collapsed": false,
    "pycharm": {
     "name": "#%%\n"
    }
   }
  },
  {
   "cell_type": "markdown",
   "source": [
    "**Lambda functions**\n",
    "\n",
    "Known as in line functions or anonymous functions. They are used to make fast inline calculus or as argument to a function\n",
    "that needs a function to do something. You will see lambda functions mostly used as argument for map, filter, sort etc.\n",
    "\n",
    "Definition:"
   ],
   "metadata": {
    "collapsed": false,
    "pycharm": {
     "name": "#%% md\n"
    }
   }
  },
  {
   "cell_type": "code",
   "execution_count": null,
   "outputs": [],
   "source": [
    "lambda x: x"
   ],
   "metadata": {
    "collapsed": false,
    "pycharm": {
     "name": "#%%\n"
    }
   }
  },
  {
   "cell_type": "markdown",
   "source": [
    "- *lambda* keyword\n",
    "- argument list\n",
    "- colon sign :\n",
    "- expresion to return\n",
    "\n",
    "So in example above the lambda function will take an argument and return it as it is.\n",
    "\n",
    "Lambda without arguments:"
   ],
   "metadata": {
    "collapsed": false,
    "pycharm": {
     "name": "#%% md\n"
    }
   }
  },
  {
   "cell_type": "code",
   "execution_count": 46,
   "outputs": [
    {
     "name": "stdout",
     "output_type": "stream",
     "text": [
      "<function <lambda> at 0x000001343178C430>\n",
      "Hello World\n"
     ]
    }
   ],
   "source": [
    "lambda: \"Hello World\" # it will return \"Hello World\"\n",
    "\n",
    "print(lambda: \"Hello World\")\n",
    "print((lambda: \"Hello World\")())"
   ],
   "metadata": {
    "collapsed": false,
    "pycharm": {
     "name": "#%%\n"
    }
   }
  },
  {
   "cell_type": "markdown",
   "source": [
    "Lambda assignment:"
   ],
   "metadata": {
    "collapsed": false,
    "pycharm": {
     "name": "#%% md\n"
    }
   }
  },
  {
   "cell_type": "code",
   "execution_count": 47,
   "outputs": [
    {
     "name": "stdout",
     "output_type": "stream",
     "text": [
      "529\n"
     ]
    }
   ],
   "source": [
    "square = lambda x: x ** 2\n",
    "print(square(23))"
   ],
   "metadata": {
    "collapsed": false,
    "pycharm": {
     "name": "#%%\n"
    }
   }
  },
  {
   "cell_type": "markdown",
   "source": [
    "Lambda usage as argument:"
   ],
   "metadata": {
    "collapsed": false,
    "pycharm": {
     "name": "#%% md\n"
    }
   }
  },
  {
   "cell_type": "code",
   "execution_count": 48,
   "outputs": [
    {
     "name": "stdout",
     "output_type": "stream",
     "text": [
      "[2, 4, 6]\n"
     ]
    }
   ],
   "source": [
    "list2 = [1, 2, 3]\n",
    "print(list(map(lambda x: x * 2, list2)))"
   ],
   "metadata": {
    "collapsed": false,
    "pycharm": {
     "name": "#%%\n"
    }
   }
  },
  {
   "cell_type": "markdown",
   "source": [
    "Function equivalent for lambda:"
   ],
   "metadata": {
    "collapsed": false,
    "pycharm": {
     "name": "#%% md\n"
    }
   }
  },
  {
   "cell_type": "code",
   "execution_count": 49,
   "outputs": [
    {
     "name": "stdout",
     "output_type": "stream",
     "text": [
      "[2, 4, 6]\n"
     ]
    }
   ],
   "source": [
    "def double(x):\n",
    "    return x * 2\n",
    "\n",
    "print(list(map(double, list2)))"
   ],
   "metadata": {
    "collapsed": false,
    "pycharm": {
     "name": "#%%\n"
    }
   }
  },
  {
   "cell_type": "markdown",
   "source": [
    "### 👩‍💻 Practice\n",
    "---\n",
    "1. Write a class that keeps track of its objects in a static list.\n",
    "2. Write a class which overwrites the \\_\\_copy\\_\\_ method so you can check if an object has copies.\n",
    "```python\n",
    "shop = Shop()\n",
    "shop_copy = copy(shop)\n",
    "shop.has_copies() -> bool\n",
    "```\n",
    "3. Write a class that represents english alphabet and make it iterable so you can do *for* over this class and get each alphabet letter.\n",
    "4. Write a lambda function that test if a number if even, will return a bool. Use this lambda as argument for\n",
    "*filter* function to extract a list of even numbers from a given list.\n",
    "\n",
    "### 🏠 Homework\n",
    "---"
   ],
   "metadata": {
    "collapsed": false,
    "pycharm": {
     "name": "#%% md\n"
    }
   }
  }
 ],
 "metadata": {
  "kernelspec": {
   "display_name": "Python 3",
   "language": "python",
   "name": "python3"
  },
  "language_info": {
   "codemirror_mode": {
    "name": "ipython",
    "version": 3
   },
   "file_extension": ".py",
   "mimetype": "text/x-python",
   "name": "python",
   "nbconvert_exporter": "python",
   "pygments_lexer": "ipython3",
   "version": "3.9.0"
  }
 },
 "nbformat": 4,
 "nbformat_minor": 4
}