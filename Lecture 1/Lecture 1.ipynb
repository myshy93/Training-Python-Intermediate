{
 "cells": [
  {
   "cell_type": "markdown",
   "metadata": {
    "pycharm": {
     "name": "#%% md\n"
    }
   },
   "source": [
    "# Lecture 1 - OOP\n",
    "\n",
    "\n",
    "\n",
    "### 📕 Today's Agenda\n",
    "---\n",
    " * Objects and Classes - recap\n",
    " * Constructors\n",
    " * Single and multiple inheritance\n",
    " * MRO - Method resolution order\n",
    " * Overwriting\n",
    " * Properties - setters and getters\n",
    " * Magic methods\n",
    "\n",
    "### 🧪 Theory\n",
    "---\n",
    "### Objects and Classes\n",
    "**Class definition with no body**"
   ]
  },
  {
   "cell_type": "code",
   "execution_count": 2,
   "outputs": [],
   "source": [
    "class A:\n",
    "    pass\n",
    "\n",
    "print('A\\'s representation: ', A)\n",
    "print('Type: ', type(A))\n",
    "print('Is A an object? ', isinstance(A, object))\n",
    "print(dir(A))"
   ],
   "metadata": {
    "collapsed": false,
    "pycharm": {
     "name": "#%%\n"
    }
   }
  },
  {
   "cell_type": "markdown",
   "source": [
    "**Class instantiation, creating objects**"
   ],
   "metadata": {
    "collapsed": false,
    "pycharm": {
     "name": "#%% md\n"
    }
   }
  },
  {
   "cell_type": "code",
   "execution_count": 3,
   "outputs": [],
   "source": [
    "obja = A()\n",
    "print('Object: ', obja)\n",
    "print('Type: ' ,type(obja))\n",
    "print('Is obja instance of A? ', isinstance(obja, A))\n",
    "print('Is obja instance of Object?', isinstance(obja, object))"
   ],
   "metadata": {
    "collapsed": false,
    "pycharm": {
     "name": "#%%\n"
    }
   }
  },
  {
   "cell_type": "markdown",
   "source": [
    "**Removing objects**"
   ],
   "metadata": {
    "collapsed": false,
    "pycharm": {
     "name": "#%% md\n"
    }
   }
  },
  {
   "cell_type": "code",
   "execution_count": 4,
   "outputs": [],
   "source": [
    "del obja"
   ],
   "metadata": {
    "collapsed": false,
    "pycharm": {
     "name": "#%%\n"
    }
   }
  },
  {
   "cell_type": "markdown",
   "source": [
    "**Class attributes**\n",
    "\n",
    "In Python the access control is implemented not in the classic way with keywords like *public*, *private*, etc.\n",
    "By default all attributes can be accessed with no restrictions, so they are public. Object attributes are created when the constructor gets called."
   ],
   "metadata": {
    "collapsed": false,
    "pycharm": {
     "name": "#%% md\n"
    }
   }
  },
  {
   "cell_type": "code",
   "execution_count": 5,
   "outputs": [],
   "source": [
    "class B:\n",
    "    # defining constructor\n",
    "    def __init__(self):\n",
    "        self.a = 0 # public\n",
    "        self._b = 1 # protected, just a convention, warnings could appear with static code checkers\n",
    "        self.__c = 2 # private, this will be mangled\n",
    "\n",
    "objb = B()\n",
    "print('a =', objb.a)\n",
    "print('_b =', objb._b)\n",
    "try:\n",
    "    print('__c=', objb.__c)\n",
    "except Exception as err:\n",
    "    print(err)"
   ],
   "metadata": {
    "collapsed": false,
    "pycharm": {
     "name": "#%%\n"
    }
   }
  },
  {
   "cell_type": "code",
   "execution_count": 6,
   "outputs": [
    {
     "name": "stdout",
     "output_type": "stream",
     "text": [
      "['_B__c', '__class__', '__delattr__', '__dict__', '__dir__', '__doc__', '__eq__', '__format__', '__ge__', '__getattribute__', '__gt__', '__hash__', '__init__', '__init_subclass__', '__le__', '__lt__', '__module__', '__ne__', '__new__', '__reduce__', '__reduce_ex__', '__repr__', '__setattr__', '__sizeof__', '__str__', '__subclasshook__', '__weakref__', '_b', 'a']\n",
      "Hack __c =  2\n"
     ]
    }
   ],
   "source": [
    "print(dir(objb))\n",
    "print('Hack __c = ', objb._B__c)"
   ],
   "metadata": {
    "collapsed": false,
    "pycharm": {
     "name": "#%%\n"
    }
   }
  },
  {
   "cell_type": "markdown",
   "source": [
    "**Class methods**\n",
    "\n",
    "Methods are defined in class body and must accept *self* as first argument. *Self* is a reference to current object.\n",
    "Methods with names in between double underscores are called magic methods, \\_\\_init\\_\\_ is one of them and there are many others.\n",
    "Methods are public by default, but the can be set to protected or private using the same mechanism as attributes."
   ],
   "metadata": {
    "collapsed": false,
    "pycharm": {
     "name": "#%% md\n"
    }
   }
  },
  {
   "cell_type": "code",
   "execution_count": 7,
   "outputs": [
    {
     "name": "stdout",
     "output_type": "stream",
     "text": [
      "Init C\n",
      "Hello\n",
      "<__main__.C object at 0x0000021D3E006A90>\n",
      "'C' object has no attribute '__show_number'\n",
      "['_C__show_number', '__class__', '__del__', '__delattr__', '__dict__', '__dir__', '__doc__', '__eq__', '__format__', '__ge__', '__getattribute__', '__gt__', '__hash__', '__init__', '__init_subclass__', '__le__', '__lt__', '__module__', '__ne__', '__new__', '__reduce__', '__reduce_ex__', '__repr__', '__setattr__', '__sizeof__', '__str__', '__subclasshook__', '__weakref__', '_say_description', 'message', 'number', 'say_message']\n",
      "1\n"
     ]
    }
   ],
   "source": [
    "class C:\n",
    "    def __init__(self):\n",
    "        print('Init C')\n",
    "        self.message = 'Hello'\n",
    "        self.number = 1\n",
    "\n",
    "    # define public method\n",
    "    def say_message(self):\n",
    "        print(self.message)\n",
    "\n",
    "    # define protected method\n",
    "    def _say_description(self):\n",
    "        print(self)\n",
    "\n",
    "    # define private method\n",
    "    def __show_number(self):\n",
    "        print(self.number)\n",
    "\n",
    "    def __del__(self):\n",
    "        print('Destruct C')\n",
    "\n",
    "objc = C()\n",
    "objc.say_message()\n",
    "objc._say_description()\n",
    "\n",
    "try:\n",
    "    objc.__show_number()\n",
    "except Exception as err:\n",
    "    print(err)\n",
    "\n",
    "print(dir(objc))\n",
    "objc._C__show_number()"
   ],
   "metadata": {
    "collapsed": false,
    "pycharm": {
     "name": "#%%\n"
    }
   }
  },
  {
   "cell_type": "markdown",
   "source": [
    "**Inheritance**\n",
    "\n",
    "To inherit form other class in class definition you have to specify the class to inherit from into parenthesis.\n",
    "In following example class D inherits from class C."
   ],
   "metadata": {
    "collapsed": false,
    "pycharm": {
     "name": "#%% md\n"
    }
   }
  },
  {
   "cell_type": "code",
   "execution_count": 8,
   "outputs": [
    {
     "name": "stdout",
     "output_type": "stream",
     "text": [
      "Init C\n",
      "Hello\n",
      "['_C__show_number', '__class__', '__del__', '__delattr__', '__dict__', '__dir__', '__doc__', '__eq__', '__format__', '__ge__', '__getattribute__', '__gt__', '__hash__', '__init__', '__init_subclass__', '__le__', '__lt__', '__module__', '__ne__', '__new__', '__reduce__', '__reduce_ex__', '__repr__', '__setattr__', '__sizeof__', '__str__', '__subclasshook__', '__weakref__', '_say_description', 'message', 'number', 'say_message']\n",
      "Hello\n",
      "<__main__.D object at 0x0000021D3E03B400>\n"
     ]
    }
   ],
   "source": [
    "class D(C):\n",
    "    pass\n",
    "\n",
    "objd = D()\n",
    "\n",
    "objd.say_message()\n",
    "print(dir(objd))\n",
    "print(objd.message)\n",
    "objd._say_description()"
   ],
   "metadata": {
    "collapsed": false,
    "pycharm": {
     "name": "#%%\n"
    }
   }
  },
  {
   "cell_type": "markdown",
   "source": [
    "For class D I didn't created any constructor so a default constructor is called. The default constructor is calling\n",
    "parent's class constructor before any other operation. This is necessary in order to have access to attributes and\n",
    "methods defined by parent class. Keeping this in mind, when creating constructors for classes that inherits it is mandatory\n",
    "to call ```super().__init__()``` in constructor."
   ],
   "metadata": {
    "collapsed": false,
    "pycharm": {
     "name": "#%% md\n"
    }
   }
  },
  {
   "cell_type": "code",
   "execution_count": 9,
   "outputs": [
    {
     "name": "stdout",
     "output_type": "stream",
     "text": [
      "Init E\n",
      "'E' object has no attribute 'message'\n"
     ]
    }
   ],
   "source": [
    "class E(C):\n",
    "    def __init__(self):\n",
    "        print('Init E')\n",
    "\n",
    "obje = E()\n",
    "try:\n",
    "    print(obje.message)\n",
    "except Exception as err:\n",
    "    print(err)"
   ],
   "metadata": {
    "collapsed": false,
    "pycharm": {
     "name": "#%%\n"
    }
   }
  },
  {
   "cell_type": "code",
   "execution_count": 15,
   "outputs": [
    {
     "name": "stdout",
     "output_type": "stream",
     "text": [
      "Init C\n",
      "Init F\n",
      "(<class '__main__.F'>, <class '__main__.C'>, <class 'object'>)\n",
      "Destruct F\n",
      "Destruct C\n"
     ]
    }
   ],
   "source": [
    "class F(C):\n",
    "    def __init__(self):\n",
    "        super().__init__()\n",
    "        print('Init F')\n",
    "\n",
    "    def __del__(self):\n",
    "        print('Destruct F')\n",
    "        super().__del__()\n",
    "\n",
    "objf = F()\n",
    "del objf"
   ],
   "metadata": {
    "collapsed": false,
    "pycharm": {
     "name": "#%%\n"
    }
   }
  },
  {
   "cell_type": "markdown",
   "source": [
    "**Overwriting**\n",
    "\n",
    "When a class inherits from other, the methods will behave the same when called by child or parent. In order to change the\n",
    "behaviour of a method called by child class, this have to be overwritten."
   ],
   "metadata": {
    "collapsed": false,
    "pycharm": {
     "name": "#%% md\n"
    }
   }
  },
  {
   "cell_type": "code",
   "execution_count": 22,
   "outputs": [
    {
     "name": "stdout",
     "output_type": "stream",
     "text": [
      "Cargo plane\n",
      "Opening fuel valves...\n",
      "Starting fuel pumps...\n",
      "Starting engine no. 1\n",
      "Starting engine no. 2\n",
      "Starting engine no. 1\n",
      "Starting engine no. 2\n",
      "\n",
      "Cessna\n",
      "Starting engine no. 1\n"
     ]
    }
   ],
   "source": [
    "class Airplane:\n",
    "    def __init__(self, weight, wing_span, engines, fuel_capacity):\n",
    "        self.weight = weight\n",
    "        self.wing_span = wing_span\n",
    "        self.engines = engines\n",
    "        self.fuel_capacity = fuel_capacity\n",
    "\n",
    "    def start_engines(self):\n",
    "        for i in range(1, self.engines + 1):\n",
    "            print('Starting engine no. %s' % i)\n",
    "\n",
    "class CommercialAirplane(Airplane):\n",
    "    def __init__(self):\n",
    "        super().__init__(150000, 50, 2, 50000)\n",
    "\n",
    "    def start_engines(self):\n",
    "        print('Opening fuel valves...')\n",
    "        print('Starting fuel pumps...')\n",
    "        for i in range(1, self.engines + 1):\n",
    "                    print('Starting engine no. %s' % i)\n",
    "\n",
    "class GeneralAviationAirplane(Airplane):\n",
    "    def __init__(self):\n",
    "        super().__init__(5000, 15, 1, 150)\n",
    "\n",
    "print('Cargo plane')\n",
    "cargo = CommercialAirplane()\n",
    "cargo.start_engines()\n",
    "print()\n",
    "print('Cessna')\n",
    "cessna = GeneralAviationAirplane()\n",
    "cessna.start_engines()"
   ],
   "metadata": {
    "collapsed": false,
    "pycharm": {
     "name": "#%%\n"
    }
   }
  },
  {
   "cell_type": "markdown",
   "source": [
    "**Multiple Inheritance**"
   ],
   "metadata": {
    "collapsed": false,
    "pycharm": {
     "name": "#%% md\n"
    }
   }
  },
  {
   "cell_type": "code",
   "execution_count": 39,
   "outputs": [
    {
     "name": "stdout",
     "output_type": "stream",
     "text": [
      "1\n",
      "2\n",
      "3\n",
      "2020-11-25\n",
      "16:59:17\n",
      "2\n",
      "(<class '__main__.Clock'>, <class '__main__.Foo'>, <class '__main__.Bar'>, <class 'object'>)\n"
     ]
    }
   ],
   "source": [
    "import datetime\n",
    "class Foo:\n",
    "    def __init__(self, one, two):\n",
    "        print(one)\n",
    "        print(two)\n",
    "\n",
    "    def say_date(self):\n",
    "        print(datetime.datetime.now().strftime(\"%Y-%m-%d\"))\n",
    "\n",
    "class Bar:\n",
    "    def __init__(self, one):\n",
    "        self.a = 2\n",
    "        print(one)\n",
    "\n",
    "    def say_date(self):\n",
    "        print(datetime.datetime.now().strftime(\"%d %B %Y\"))\n",
    "\n",
    "    def say_time(self):\n",
    "        print(datetime.datetime.now().strftime(\"%H:%M:%S\"))\n",
    "\n",
    "class Clock(Foo, Bar):\n",
    "    def __init__(self):\n",
    "        # super().__init__()\n",
    "        Bar.__init__(self, 1)\n",
    "        Foo.__init__(self, 2, 3)\n",
    "\n",
    "clock = Clock()\n",
    "clock.say_date()\n",
    "clock.say_time()\n",
    "print(clock.a)\n",
    "print(Clock.__mro__)"
   ],
   "metadata": {
    "collapsed": false,
    "pycharm": {
     "name": "#%%\n"
    }
   }
  },
  {
   "cell_type": "markdown",
   "source": [
    "**Magic methods**\n",
    "\n",
    "The most known magic method is \\_\\_init\\_\\_. It is often overwritten to change the default constructor behaviour.\n",
    "In Python there are may other magic methods that can be overwritten. This magic methods are used to define objects\n",
    "behaviour when it is passed to some functions or used with operators."
   ],
   "metadata": {
    "collapsed": false,
    "pycharm": {
     "name": "#%% md\n"
    }
   }
  },
  {
   "cell_type": "code",
   "execution_count": 42,
   "outputs": [
    {
     "name": "stdout",
     "output_type": "stream",
     "text": [
      "['__class__',\n",
      " '__delattr__',\n",
      " '__dir__',\n",
      " '__doc__',\n",
      " '__eq__',\n",
      " '__format__',\n",
      " '__ge__',\n",
      " '__getattribute__',\n",
      " '__gt__',\n",
      " '__hash__',\n",
      " '__init__',\n",
      " '__init_subclass__',\n",
      " '__le__',\n",
      " '__lt__',\n",
      " '__ne__',\n",
      " '__new__',\n",
      " '__reduce__',\n",
      " '__reduce_ex__',\n",
      " '__repr__',\n",
      " '__setattr__',\n",
      " '__sizeof__',\n",
      " '__str__',\n",
      " '__subclasshook__']\n"
     ]
    }
   ],
   "source": [
    "import pprint\n",
    "pprint.pprint(dir(object))"
   ],
   "metadata": {
    "collapsed": false,
    "pycharm": {
     "name": "#%%\n"
    }
   }
  },
  {
   "cell_type": "markdown",
   "source": [
    "Few magic method explanation:\n",
    "* \\_\\_doc\\_\\_ - returns class documentation this is called by help()\n",
    "* \\_\\_eq\\_\\_  - must return bool and is called when two objects are compared with equal sign\n",
    "* \\_\\_add\\_\\_ - overwrite for + operator\n",
    "* \\_\\_sub\\_\\_ - overwrite for - operator\n",
    "* \\_\\_mul\\_\\_ - overwrite for * operator\n",
    "* \\_\\_str\\_\\_ - return string representation of object\n",
    "* \\_\\_repr\\_\\_- return object representation when called by REPL\n"
   ],
   "metadata": {
    "collapsed": false,
    "pycharm": {
     "name": "#%% md\n"
    }
   }
  },
  {
   "cell_type": "code",
   "execution_count": 60,
   "outputs": [
    {
     "name": "stdout",
     "output_type": "stream",
     "text": [
      "0 0 0 0 0 \n",
      "0 0 0 0 0 \n",
      "0 0 0 0 0 \n",
      "0 0 0 0 0 \n",
      "0 0 0 0 0 \n",
      "\n",
      "0 0 0 0 0 \n",
      "0 0 0 0 0 \n",
      "\n"
     ]
    },
    {
     "data": {
      "text/plain": "<__main__.ZeroMatrix at 0x21d3dff44c0>"
     },
     "execution_count": 60,
     "metadata": {},
     "output_type": "execute_result"
    }
   ],
   "source": [
    "class Matrix:\n",
    "    def __init__(self, dd_vector):\n",
    "        self.__vector = dd_vector\n",
    "\n",
    "    def get_size(self):\n",
    "        if len(self.__vector):\n",
    "            return len(self.__vector), len(self.__vector[0])\n",
    "        else:\n",
    "            return 0, 0\n",
    "\n",
    "    def __str__(self):\n",
    "        # return \"\\n\".join(\n",
    "        #     [\" \".join(map(lambda y : str(y),x)) for x in self.__vector]\n",
    "        # )\n",
    "        repr = \"\"\n",
    "        for i in self.__vector:\n",
    "            for j in i:\n",
    "                repr += \"%s \" % j\n",
    "            repr += \"\\n\"\n",
    "        return  repr\n",
    "\n",
    "\n",
    "\n",
    "class ZeroMatrix(Matrix):\n",
    "    def __init__(self, n, m):\n",
    "        vector = []\n",
    "        for i in range(n):\n",
    "            vector.append([0 for j in range(m)])\n",
    "        super().__init__(vector)\n",
    "\n",
    "class UnitMatrix(Matrix):\n",
    "    pass\n",
    "\n",
    "m0 = ZeroMatrix(5, 5)\n",
    "print(m0)\n",
    "m1 = ZeroMatrix(2, 5)\n",
    "print(m1)\n",
    "m1"
   ],
   "metadata": {
    "collapsed": false,
    "pycharm": {
     "name": "#%%\n"
    }
   }
  },
  {
   "cell_type": "markdown",
   "source": [
    "\n",
    "### 👩‍💻 Practice\n",
    "---\n",
    "1. Write one more method for Airplane class and overwrite it in a new class named `SprayingAirplane`.\n",
    "2. Google for Google's Docstring standard and document `Airplane` class.\n",
    "3. Write the constructor for `UnitMatrix` class.\n",
    "4. Overwrite addition operator for `Matrix` class. Make few tests.\n",
    "4. Overwrite multiplication operator for `Matrix` class. Must be able to multiply with other matrix or scalar.\n",
    "\n",
    "### 🏠 Homework\n",
    "---\n",
    " * Study multiple inheritance diamond problem with ```super```.\n",
    " * Read about object properties [here.](https://www.python-course.eu/python3_properties.php)\n",
    " * Implement standard-52 card deck in Python. Create a `Card` class and a `Deck` class. The cards has to be printable ex:\n",
    " ```\n",
    "    print(card)\n",
    "    >>> 5♠\n",
    " ```\n",
    "The deck must keep a list of cards inside it. Put the cards in deck at instantiation, 52 cards, no duplicates.\n",
    "The deck must implement `get_cards(number)`, `shuffle()`and overwrite \\_\\_len\\_\\_ to show the number of remaining cards in deck.\n"
   ],
   "metadata": {
    "collapsed": false,
    "pycharm": {
     "name": "#%% md\n"
    }
   }
  }
 ],
 "metadata": {
  "kernelspec": {
   "display_name": "Python 3",
   "language": "python",
   "name": "python3"
  },
  "language_info": {
   "codemirror_mode": {
    "name": "ipython",
    "version": 3
   },
   "file_extension": ".py",
   "mimetype": "text/x-python",
   "name": "python",
   "nbconvert_exporter": "python",
   "pygments_lexer": "ipython3",
   "version": "3.9.0"
  }
 },
 "nbformat": 4,
 "nbformat_minor": 4
}