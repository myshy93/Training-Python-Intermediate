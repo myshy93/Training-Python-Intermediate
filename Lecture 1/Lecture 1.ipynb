{
 "cells": [
  {
   "cell_type": "markdown",
   "metadata": {},
   "source": [
    "# Python Intermediate 1\n",
    "\n",
    "👋 Welcome to Python Intermediate course! This is the first part of the course as the it is split in two parts due to its complexity.\n",
    "\n",
    "#### Assumptions\n",
    "✔ You attended Python Foundation Course or you have basic knowledge (syntax, data structures, flow control and string formatting) about Python 3.7.  \n",
    "✔ You know OOP concepts and how they are implemented in Python.\n",
    "✔ You have basis understanding about threads and how CPU deals with them.  \n",
    "✔ You can describe the differences between a process and a thread.\n",
    "✔ You know what is PEP-8 and understand why to respect code style.  "
   ]
  },
  {
   "cell_type": "code",
   "execution_count": 1,
   "metadata": {},
   "outputs": [
    {
     "name": "stdout",
     "output_type": "stream",
     "text": [
      "The Zen of Python, by Tim Peters\n",
      "\n",
      "Beautiful is better than ugly.\n",
      "Explicit is better than implicit.\n",
      "Simple is better than complex.\n",
      "Complex is better than complicated.\n",
      "Flat is better than nested.\n",
      "Sparse is better than dense.\n",
      "Readability counts.\n",
      "Special cases aren't special enough to break the rules.\n",
      "Although practicality beats purity.\n",
      "Errors should never pass silently.\n",
      "Unless explicitly silenced.\n",
      "In the face of ambiguity, refuse the temptation to guess.\n",
      "There should be one-- and preferably only one --obvious way to do it.\n",
      "Although that way may not be obvious at first unless you're Dutch.\n",
      "Now is better than never.\n",
      "Although never is often better than *right* now.\n",
      "If the implementation is hard to explain, it's a bad idea.\n",
      "If the implementation is easy to explain, it may be a good idea.\n",
      "Namespaces are one honking great idea -- let's do more of those!\n"
     ]
    }
   ],
   "source": [
    "import this"
   ]
  },
  {
   "cell_type": "markdown",
   "metadata": {},
   "source": [
    "---"
   ]
  },
  {
   "cell_type": "markdown",
   "metadata": {},
   "source": [
    "# 📖 What you will learn?\n",
    "\n",
    "The course will have 5 lectures introducing to you advanced OOP operations in Python, logging and command line arguments and testing.\n",
    "\n",
    "### Outline\n",
    "1. **OOP** - Deep dive into Python Objects\n",
    "2. **Functional programming** - Iterators, Generators, Namespaces\n",
    "3. **Logging and Time** - How to log for easier debug\n",
    "4. **Command line arguments** - Make your code more versatile\n",
    "5. **Unit testing** - Tests your code"
   ]
  },
  {
   "cell_type": "markdown",
   "metadata": {},
   "source": [
    "---"
   ]
  },
  {
   "cell_type": "markdown",
   "metadata": {
    "pycharm": {
     "name": "#%% md\n"
    }
   },
   "source": [
    "# Lecture 1 - OOP\n",
    "\n",
    "\n",
    "\n",
    "### 📕 Today's Agenda\n",
    "---\n",
    " * Objects and Classes - recap\n",
    " * Constructors\n",
    " * Single and multiple inheritance\n",
    " * MRO - Method resolution order\n",
    " * Overwriting\n",
    " * Properties - setters and getters\n",
    " * Magic methods\n",
    "\n",
    "### 🧪 Theory\n",
    "---\n",
    "#### Objects and Classes\n",
    "**Class definition with no body**"
   ]
  },
  {
   "cell_type": "code",
   "execution_count": 27,
   "outputs": [
    {
     "name": "stdout",
     "output_type": "stream",
     "text": [
      "A's representation:  <class '__main__.A'>\n",
      "Type:  <class 'type'>\n",
      "Is A an object?  True\n",
      "['__class__', '__delattr__', '__dict__', '__dir__', '__doc__', '__eq__', '__format__', '__ge__', '__getattribute__', '__gt__', '__hash__', '__init__', '__init_subclass__', '__le__', '__lt__', '__module__', '__ne__', '__new__', '__reduce__', '__reduce_ex__', '__repr__', '__setattr__', '__sizeof__', '__str__', '__subclasshook__', '__weakref__']\n"
     ]
    }
   ],
   "source": [
    "class A:\n",
    "    pass\n",
    "\n",
    "print('A\\'s representation: ', A)\n",
    "print('Type: ', type(A))\n",
    "print('Is A an object? ', isinstance(A, object))\n",
    "print(dir(A))"
   ],
   "metadata": {
    "collapsed": false,
    "pycharm": {
     "name": "#%%\n"
    }
   }
  },
  {
   "cell_type": "markdown",
   "source": [
    "**Class instantiation, creating objects**"
   ],
   "metadata": {
    "collapsed": false,
    "pycharm": {
     "name": "#%% md\n"
    }
   }
  },
  {
   "cell_type": "code",
   "execution_count": 28,
   "outputs": [
    {
     "name": "stdout",
     "output_type": "stream",
     "text": [
      "Object:  <__main__.A object at 0x000001959C568100>\n",
      "Type:  <class '__main__.A'>\n",
      "Is instance of A?  True\n",
      "Is A subclass of Object? True\n",
      "Is instance of Object? True\n"
     ]
    }
   ],
   "source": [
    "obja = A()\n",
    "print('Object: ', obja)\n",
    "print('Type: ' ,type(obja))\n",
    "print('Is obja instance of A? ', isinstance(obja, A))\n",
    "print('Is obja instance of Object?', isinstance(obja, object))"
   ],
   "metadata": {
    "collapsed": false,
    "pycharm": {
     "name": "#%%\n"
    }
   }
  },
  {
   "cell_type": "markdown",
   "source": [
    "**Removing objects**"
   ],
   "metadata": {
    "collapsed": false,
    "pycharm": {
     "name": "#%% md\n"
    }
   }
  },
  {
   "cell_type": "code",
   "execution_count": 30,
   "outputs": [
    {
     "ename": "NameError",
     "evalue": "name 'obja' is not defined",
     "output_type": "error",
     "traceback": [
      "\u001B[1;31m---------------------------------------------------------------------------\u001B[0m",
      "\u001B[1;31mNameError\u001B[0m                                 Traceback (most recent call last)",
      "\u001B[1;32m<ipython-input-30-845c35c1a182>\u001B[0m in \u001B[0;36m<module>\u001B[1;34m\u001B[0m\n\u001B[1;32m----> 1\u001B[1;33m \u001B[1;32mdel\u001B[0m \u001B[0mobja\u001B[0m\u001B[1;33m\u001B[0m\u001B[1;33m\u001B[0m\u001B[0m\n\u001B[0m\u001B[0;32m      2\u001B[0m \u001B[0mprint\u001B[0m\u001B[1;33m(\u001B[0m\u001B[0mobja\u001B[0m\u001B[1;33m)\u001B[0m\u001B[1;33m\u001B[0m\u001B[1;33m\u001B[0m\u001B[0m\n",
      "\u001B[1;31mNameError\u001B[0m: name 'obja' is not defined"
     ]
    }
   ],
   "source": [
    "del obja\n",
    "print(obja)"
   ],
   "metadata": {
    "collapsed": false,
    "pycharm": {
     "name": "#%%\n"
    }
   }
  },
  {
   "cell_type": "markdown",
   "source": [
    "**Class attributes**\n",
    "In Python the access control is implemented not in the classic way with keywords like *public*, *private*, etc.\n",
    "By default all attributes can be accessed with no restrictions, so they are public. Object attributes are created when the constructor gets called."
   ],
   "metadata": {
    "collapsed": false,
    "pycharm": {
     "name": "#%% md\n"
    }
   }
  },
  {
   "cell_type": "code",
   "execution_count": 41,
   "outputs": [
    {
     "name": "stdout",
     "output_type": "stream",
     "text": [
      "a = 0\n",
      "_b = 1\n"
     ]
    },
    {
     "ename": "AttributeError",
     "evalue": "'B' object has no attribute '__c'",
     "output_type": "error",
     "traceback": [
      "\u001B[1;31m---------------------------------------------------------------------------\u001B[0m",
      "\u001B[1;31mAttributeError\u001B[0m                            Traceback (most recent call last)",
      "\u001B[1;32m<ipython-input-41-0ccb02a84c5f>\u001B[0m in \u001B[0;36m<module>\u001B[1;34m\u001B[0m\n\u001B[0;32m      9\u001B[0m \u001B[0mprint\u001B[0m\u001B[1;33m(\u001B[0m\u001B[1;34m'a ='\u001B[0m\u001B[1;33m,\u001B[0m \u001B[0mobjb\u001B[0m\u001B[1;33m.\u001B[0m\u001B[0ma\u001B[0m\u001B[1;33m)\u001B[0m\u001B[1;33m\u001B[0m\u001B[1;33m\u001B[0m\u001B[0m\n\u001B[0;32m     10\u001B[0m \u001B[0mprint\u001B[0m\u001B[1;33m(\u001B[0m\u001B[1;34m'_b ='\u001B[0m\u001B[1;33m,\u001B[0m \u001B[0mobjb\u001B[0m\u001B[1;33m.\u001B[0m\u001B[0m_b\u001B[0m\u001B[1;33m)\u001B[0m\u001B[1;33m\u001B[0m\u001B[1;33m\u001B[0m\u001B[0m\n\u001B[1;32m---> 11\u001B[1;33m \u001B[0mprint\u001B[0m\u001B[1;33m(\u001B[0m\u001B[1;34m'__c='\u001B[0m\u001B[1;33m,\u001B[0m \u001B[0mobjb\u001B[0m\u001B[1;33m.\u001B[0m\u001B[0m__c\u001B[0m\u001B[1;33m)\u001B[0m\u001B[1;33m\u001B[0m\u001B[1;33m\u001B[0m\u001B[0m\n\u001B[0m",
      "\u001B[1;31mAttributeError\u001B[0m: 'B' object has no attribute '__c'"
     ]
    }
   ],
   "source": [
    "class B:\n",
    "    # defining constructor\n",
    "    def __init__(self):\n",
    "        self.a = 0 # public\n",
    "        self._b = 1 # protected, just a convention, warnings could appear with static code checkers\n",
    "        self.__c = 2 # private, this will be mangled\n",
    "\n",
    "objb = B()\n",
    "print('a =', objb.a)\n",
    "print('_b =', objb._b)\n",
    "print('__c=', objb.__c)"
   ],
   "metadata": {
    "collapsed": false,
    "pycharm": {
     "name": "#%%\n"
    }
   }
  },
  {
   "cell_type": "code",
   "execution_count": 42,
   "outputs": [
    {
     "name": "stdout",
     "output_type": "stream",
     "text": [
      "['_B__c', '__class__', '__delattr__', '__dict__', '__dir__', '__doc__', '__eq__', '__format__', '__ge__', '__getattribute__', '__gt__', '__hash__', '__init__', '__init_subclass__', '__le__', '__lt__', '__module__', '__ne__', '__new__', '__reduce__', '__reduce_ex__', '__repr__', '__setattr__', '__sizeof__', '__str__', '__subclasshook__', '__weakref__', '_b', 'a']\n",
      "Hack __c =  2\n"
     ]
    }
   ],
   "source": [
    "print(dir(objb))\n",
    "print('Hack __c = ', objb._B__c)"
   ],
   "metadata": {
    "collapsed": false,
    "pycharm": {
     "name": "#%%\n"
    }
   }
  },
  {
   "cell_type": "markdown",
   "source": [
    "**Class methods**\n",
    "Methods are defined in class body and must accept *self* as first argument. *Self* is a reference to current object.\n",
    "Methods with names in between double underscores are called magic methods, \\_\\_init\\_\\_ is one of them and there are many others.\n",
    "Methods are public by default, but the can be set to protected or private using the same mechanism as attributes."
   ],
   "metadata": {
    "collapsed": false,
    "pycharm": {
     "name": "#%% md\n"
    }
   }
  },
  {
   "cell_type": "code",
   "execution_count": 46,
   "outputs": [
    {
     "name": "stdout",
     "output_type": "stream",
     "text": [
      "Hello\n",
      "<__main__.C object at 0x000001959C8906A0>\n"
     ]
    },
    {
     "ename": "AttributeError",
     "evalue": "'C' object has no attribute '__show_number'",
     "output_type": "error",
     "traceback": [
      "\u001B[1;31m---------------------------------------------------------------------------\u001B[0m",
      "\u001B[1;31mAttributeError\u001B[0m                            Traceback (most recent call last)",
      "\u001B[1;32m<ipython-input-46-214e9a260ecd>\u001B[0m in \u001B[0;36m<module>\u001B[1;34m\u001B[0m\n\u001B[0;32m     19\u001B[0m \u001B[0mobjc\u001B[0m\u001B[1;33m.\u001B[0m\u001B[0msay_message\u001B[0m\u001B[1;33m(\u001B[0m\u001B[1;33m)\u001B[0m\u001B[1;33m\u001B[0m\u001B[1;33m\u001B[0m\u001B[0m\n\u001B[0;32m     20\u001B[0m \u001B[0mobjc\u001B[0m\u001B[1;33m.\u001B[0m\u001B[0m_say_description\u001B[0m\u001B[1;33m(\u001B[0m\u001B[1;33m)\u001B[0m\u001B[1;33m\u001B[0m\u001B[1;33m\u001B[0m\u001B[0m\n\u001B[1;32m---> 21\u001B[1;33m \u001B[0mobjc\u001B[0m\u001B[1;33m.\u001B[0m\u001B[0m__show_number\u001B[0m\u001B[1;33m(\u001B[0m\u001B[1;33m)\u001B[0m\u001B[1;33m\u001B[0m\u001B[1;33m\u001B[0m\u001B[0m\n\u001B[0m\u001B[0;32m     22\u001B[0m \u001B[1;33m\u001B[0m\u001B[0m\n\u001B[0;32m     23\u001B[0m \u001B[1;33m\u001B[0m\u001B[0m\n",
      "\u001B[1;31mAttributeError\u001B[0m: 'C' object has no attribute '__show_number'"
     ]
    }
   ],
   "source": [
    "class C:\n",
    "    def __init__(self):\n",
    "        self.message = 'Hello'\n",
    "        self.number = 1\n",
    "\n",
    "    # define public method\n",
    "    def say_message(self):\n",
    "        print(self.message)\n",
    "\n",
    "    # define protected method\n",
    "    def _say_description(self):\n",
    "        print(self)\n",
    "\n",
    "    # define private method\n",
    "    def __show_number(self):\n",
    "        print(self.number)\n",
    "\n",
    "objc = C()\n",
    "objc.say_message()\n",
    "objc._say_description()\n",
    "objc.__show_number()"
   ],
   "metadata": {
    "collapsed": false,
    "pycharm": {
     "name": "#%%\n"
    }
   }
  },
  {
   "cell_type": "code",
   "execution_count": 49,
   "outputs": [
    {
     "name": "stdout",
     "output_type": "stream",
     "text": [
      "['_C__show_number', '__class__', '__delattr__', '__dict__', '__dir__', '__doc__', '__eq__', '__format__', '__ge__', '__getattribute__', '__gt__', '__hash__', '__init__', '__init_subclass__', '__le__', '__lt__', '__module__', '__ne__', '__new__', '__reduce__', '__reduce_ex__', '__repr__', '__setattr__', '__sizeof__', '__str__', '__subclasshook__', '__weakref__', '_say_description', 'message', 'number', 'say_message']\n",
      "1\n"
     ]
    }
   ],
   "source": [
    "print(dir(objc))\n",
    "objc._C__show_number()"
   ],
   "metadata": {
    "collapsed": false,
    "pycharm": {
     "name": "#%%\n"
    }
   }
  },
  {
   "cell_type": "markdown",
   "source": [
    "**Constructors**"
   ],
   "metadata": {
    "collapsed": false,
    "pycharm": {
     "name": "#%% md\n"
    }
   }
  },
  {
   "cell_type": "markdown",
   "source": [
    "### 👩‍💻 Practice\n",
    "---\n",
    "### 🏠 Homework\n",
    "---\n"
   ],
   "metadata": {
    "collapsed": false,
    "pycharm": {
     "name": "#%% md\n"
    }
   }
  }
 ],
 "metadata": {
  "kernelspec": {
   "display_name": "Python 3",
   "language": "python",
   "name": "python3"
  },
  "language_info": {
   "codemirror_mode": {
    "name": "ipython",
    "version": 3
   },
   "file_extension": ".py",
   "mimetype": "text/x-python",
   "name": "python",
   "nbconvert_exporter": "python",
   "pygments_lexer": "ipython3",
   "version": "3.9.0"
  }
 },
 "nbformat": 4,
 "nbformat_minor": 4
}