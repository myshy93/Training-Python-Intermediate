{
 "cells": [
  {
   "source": [
    "# Lecture 5 - Unit testing\n",
    "\n",
    "## 📕 Today's Agenda\n",
    "---\n",
    " * [Unittest module](#Unittest-module)\n",
    " * Simple unit test\n",
    " * Executing tests\n",
    " * Setup and teardown\n",
    " * DDT\n",
    " * Mocking\n",
    " * Patching\n",
    " * Skipping tests and errors\n",
    "\n",
    "## 🧪 Theory\n",
    "---"
   ],
   "cell_type": "markdown",
   "metadata": {}
  },
  {
   "cell_type": "markdown",
   "source": [
    "### Unittest module\n",
    "\n",
    "There are many modules for testing Python code, one on we will focus on is `unittest`. Other well known module for testing is `pytest`.\n",
    "Unittest is a entire framework for testing your Py code, you can make tests, test suites and run tests with built-in runner.\n",
    "\n",
    "\n",
    "### Simple unit test\n",
    "\n",
    "Let's build a simple test for a simple function."
   ],
   "metadata": {
    "collapsed": false,
    "pycharm": {
     "name": "#%% md\n"
    }
   }
  },
  {
   "cell_type": "code",
   "execution_count": 5,
   "outputs": [],
   "source": [
    "from math import pi\n",
    "import unittest\n",
    "\n",
    "def circle_area(radius):\n",
    "    if not isinstance(radius, float) or not isinstance(radius, int):\n",
    "        raise TypeError('Radius must be integer of float.')\n",
    "    if radius <= 0:\n",
    "        raise ValueError('Radius must be greater then zero.')\n",
    "    return pi * radius ** 2\n",
    "\n",
    "class TestMyFunctions(unittest.TestCase):\n",
    "    def test_circle_area(self):\n",
    "        with self.assertRaises(TypeError):\n",
    "            circle_area(None)\n",
    "        with self.assertRaises(ValueError):\n",
    "            circle_area(-1)\n",
    "        self.assertEqual(circle_area(1), 0.7853981634)"
   ],
   "metadata": {
    "collapsed": false,
    "pycharm": {
     "name": "#%%\n"
    }
   }
  },
  {
   "cell_type": "markdown",
   "source": [
    "First steps to consider when creating tests:\n",
    "1. Create a class that extends `unittest.TestCase'. Name this class prefixed with 'Test'.\n",
    "2. Create functions in this class for testing functions. Each test function name must be prefixed with 'test_'.\n",
    "3. Write test code in test functions.\n",
    "\n",
    "NOTE: Prefixing classes and functions names will help test framework to auto-discover test.\n",
    "\n",
    "**Run tests**\n",
    "\n",
    "To run a python file with tests, place this snippet at the bottom.\n",
    "```python\n",
    "if __name__ == '__main__':\n",
    "    unittest.main()\n",
    "```"
   ],
   "metadata": {
    "collapsed": false,
    "pycharm": {
     "name": "#%% md\n"
    }
   }
  },
  {
   "cell_type": "markdown",
   "source": [
    "## 👩‍💻 Practice\n",
    "---\n",
    "\n",
    "## 🏠 Homework\n",
    "---"
   ],
   "metadata": {
    "collapsed": false,
    "pycharm": {
     "name": "#%% md\n"
    }
   }
  }
 ],
 "metadata": {
  "kernelspec": {
   "name": "python3",
   "language": "python",
   "display_name": "Python 3"
  },
  "language_info": {
   "codemirror_mode": {
    "name": "ipython",
    "version": 3
   },
   "file_extension": ".py",
   "mimetype": "text/x-python",
   "name": "python",
   "nbconvert_exporter": "python",
   "pygments_lexer": "ipython3",
   "version": "3.9.0-final"
  }
 },
 "nbformat": 4,
 "nbformat_minor": 4
}