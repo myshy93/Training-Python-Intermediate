{
 "cells": [
  {
   "source": [
    "# Lecture 5 - Unit testing\n",
    "\n",
    "## 📕 Today's Agenda\n",
    "---\n",
    " * [Unittest module](#Unittest-module)\n",
    " * [Simple unit test](#Simple-unit-test)\n",
    " * [Executing tests](#Executing-tests)\n",
    " * [Test methods](#Test-methods)\n",
    " * [Setup and teardown](#Setup-and-teardown)\n",
    " * DDT\n",
    " * Mocking\n",
    " * Patching\n",
    " * Skipping tests and errors\n",
    "\n",
    "## 🧪 Theory\n",
    "---"
   ],
   "cell_type": "markdown",
   "metadata": {}
  },
  {
   "cell_type": "markdown",
   "source": [
    "### Unittest module\n",
    "\n",
    "There are many modules for testing Python code, one on we will focus on is `unittest`. Other well known module for testing is `pytest`.\n",
    "Unittest is a entire framework for testing your Py code, you can make tests, test suites and run tests with built-in runner.\n",
    "\n",
    "\n",
    "### Simple unit test\n",
    "\n",
    "Let's build a simple test for a simple function."
   ],
   "metadata": {
    "collapsed": false,
    "pycharm": {
     "name": "#%% md\n"
    }
   }
  },
  {
   "cell_type": "code",
   "execution_count": 5,
   "outputs": [],
   "source": [
    "from math import pi\n",
    "import unittest\n",
    "\n",
    "def circle_area(radius):\n",
    "    if not isinstance(radius, float) or not isinstance(radius, int):\n",
    "        raise TypeError('Radius must be integer of float.')\n",
    "    if radius <= 0:\n",
    "        raise ValueError('Radius must be greater then zero.')\n",
    "    return pi * radius ** 2\n",
    "\n",
    "class TestMyFunctions(unittest.TestCase):\n",
    "    def test_circle_area(self):\n",
    "        with self.assertRaises(TypeError):\n",
    "            circle_area(None)\n",
    "        with self.assertRaises(ValueError):\n",
    "            circle_area(-1)\n",
    "        self.assertEqual(circle_area(1), 0.7853981634)"
   ],
   "metadata": {
    "collapsed": false,
    "pycharm": {
     "name": "#%%\n"
    }
   }
  },
  {
   "cell_type": "markdown",
   "source": [
    "First steps to consider when creating tests:\n",
    "1. Create a class that extends `unittest.TestCase'. Name this class prefixed with 'Test'.\n",
    "2. Create functions in this class for testing functions. Each test function name must be prefixed with 'test_'.\n",
    "3. Write test code in test functions.\n",
    "\n",
    "NOTE: Prefixing classes and functions names will help test framework to auto-discover test.\n",
    "\n",
    "### Executing tests\n",
    "\n",
    "To run a python file with tests, place this snippet at the bottom.\n",
    "```python\n",
    "if __name__ == '__main__':\n",
    "    unittest.main()\n",
    "```\n",
    "\n",
    "### Test methods\n",
    "The `TestCase` class provides several assert methods to check for and report failures. The following table lists the most\n",
    "commonly used methods (see the tables below for more assert methods):\n",
    "\n",
    "| Method | Checks that |\n",
    "| :-: | :-: |\n",
    "| assertEqual(a, b) | a == b |\n",
    "| assertNotEqual(a, b) | a != b |\n",
    "| assertTrue(x) | x is True |\n",
    "| assertFalse(x) | x is False |\n",
    "| assertIs(a, b) | a is b |\n",
    "| assertIsNot(a, b) | a is not b |\n",
    "| assertIsNone(x) | x is None |\n",
    "| assertIsNotNone(x) | x is not None |\n",
    "| assertIn(a, b) | a in b |\n",
    "| assertNotIn(a, b) | a not in b |\n",
    "| assertIsInstance(a, b) | a is instance of b |\n",
    "| assertNotIsInstance(a, b) | a is not instance of b |\n",
    "| assertRaises(x)* | check if x is raised |\n",
    "\n",
    "\\* Used only with context manager\n",
    "\n",
    "### Setup and teardown\n",
    "\n",
    "The `TestCase` class exposes `setUp` and `tearDown` methods for housekeeping purposes. They are not implemented so you\n",
    "have to do it in your test case.\n",
    "\n",
    "In the *setUp* method you can place code to be run before each test executes and in *tearDown* method you can place code to be\n",
    "that will be executed after each test."
   ],
   "metadata": {
    "collapsed": false,
    "pycharm": {
     "name": "#%% md\n"
    }
   }
  },
  {
   "cell_type": "code",
   "execution_count": null,
   "outputs": [],
   "source": [
    "class TestMx(unittest.TestCase):\n",
    "\n",
    "    def setUp(self):\n",
    "        print('Executing new test...')\n",
    "\n",
    "    def test_one(self):\n",
    "        self.assertEquals(1, 1)\n",
    "\n",
    "    def test_two(self):\n",
    "        self.assertEqual(1, 1)\n",
    "\n",
    "    def tearDown(self):\n",
    "        print('DONE')\n",
    "\n",
    "if __name__ == '__main__':\n",
    "    unittest.main()"
   ],
   "metadata": {
    "collapsed": false,
    "pycharm": {
     "name": "#%%\n"
    }
   }
  },
  {
   "cell_type": "markdown",
   "source": [
    "## 👩‍💻 Practice\n",
    "---\n",
    "\n",
    "## 🏠 Homework\n",
    "---"
   ],
   "metadata": {
    "collapsed": false,
    "pycharm": {
     "name": "#%% md\n"
    }
   }
  }
 ],
 "metadata": {
  "kernelspec": {
   "name": "python3",
   "language": "python",
   "display_name": "Python 3"
  },
  "language_info": {
   "codemirror_mode": {
    "name": "ipython",
    "version": 3
   },
   "file_extension": ".py",
   "mimetype": "text/x-python",
   "name": "python",
   "nbconvert_exporter": "python",
   "pygments_lexer": "ipython3",
   "version": "3.9.0-final"
  }
 },
 "nbformat": 4,
 "nbformat_minor": 4
}