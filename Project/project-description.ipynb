{
 "cells": [
  {
   "cell_type": "markdown",
   "source": [
    "## Project\n",
    "\n",
    "**Project name:** Build tracking tool.\n",
    "\n",
    "**Description:** This tool will monitor a directory for content change. If a new build is placed inside,\n",
    "the information about it will be exported in a html report file.\n",
    "\n",
    "**CLI args:**\n",
    " - path to monitor\n",
    " - run mode: scan one or scheduled\n",
    " - output filename\n",
    " - help\n",
    " - version\n",
    " - verbosity\n",
    " - log path\n",
    "\n",
    "# Project steps\n",
    "\n",
    "### 1. Make functionality for exporting build info to html report.\n",
    "Make the function for build info append to existing html report. This function accepts\n",
    "a dictionary as argument and append the info to the existing report. Report path is also\n",
    "provided as an argument. If the report path provided does not contain a report file, then it\n",
    "will be created. Use [this template](test_report.html).\n",
    "\n",
    "### 2. Make an class that describes a build\n",
    "Write a class that describes a build. What information you need about a build? Look at the html report\n",
    "to figure it out. After creating this class integrate the function created at step 1 as a method.\n",
    "Create a function that walk a directory and check if there are builds. A build is considered a directory that follows the naming pattern (20w20-1.2) and contains\n",
    "at least a file called 'bootloader.vers' inside it. The file 'bootloader.vers' must contain a string o first line representing\n",
    "bootloader version (ex: 1.2).\n",
    "\n",
    "### 3. Integrate the logger\n",
    "Set logger to DEBUG level and log into file.\n",
    "\n",
    "### 4. Add arguments\n",
    "USe argparser to implement required CLI args."
   ],
   "metadata": {
    "collapsed": false,
    "pycharm": {
     "name": "#%% md\n"
    }
   }
  }
 ],
 "metadata": {
  "kernelspec": {
   "display_name": "Python 3",
   "language": "python",
   "name": "python3"
  },
  "language_info": {
   "codemirror_mode": {
    "name": "ipython",
    "version": 2
   },
   "file_extension": ".py",
   "mimetype": "text/x-python",
   "name": "python",
   "nbconvert_exporter": "python",
   "pygments_lexer": "ipython2",
   "version": "2.7.6"
  }
 },
 "nbformat": 4,
 "nbformat_minor": 0
}