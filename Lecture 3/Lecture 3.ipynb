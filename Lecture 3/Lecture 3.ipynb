{
 "cells": [
  {
   "source": [
    "# Lecture 3 - Logging and Time\n",
    "\n",
    "### 📕 Today's Agenda\n",
    "---\n",
    " * Datetime module\n",
    " * Logging module\n",
    " * Configuring logger\n",
    " * Writing logs to console or files\n",
    "\n",
    "### 🧪 Theory\n",
    "---\n",
    "\n",
    "### 👩‍💻 Practice\n",
    "---\n",
    "\n",
    "### 🏠 Homework\n",
    "---"
   ],
   "cell_type": "markdown",
   "metadata": {}
  }
 ],
 "metadata": {
  "kernelspec": {
   "name": "python3",
   "display_name": "Python 3.9.0 64-bit",
   "metadata": {
    "interpreter": {
     "hash": "c57138a23ab89c43dc6268d555a6f07d1cf84623ded0f12a7cd8136242025b86"
    }
   }
  },
  "language_info": {
   "codemirror_mode": {
    "name": "ipython",
    "version": 3
   },
   "file_extension": ".py",
   "mimetype": "text/x-python",
   "name": "python",
   "nbconvert_exporter": "python",
   "pygments_lexer": "ipython3",
   "version": "3.9.0-final"
  }
 },
 "nbformat": 4,
 "nbformat_minor": 4
}