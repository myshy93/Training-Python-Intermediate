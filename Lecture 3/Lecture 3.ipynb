{
 "cells": [
  {
   "source": [
    "# Lecture 3 - Logging and Time\n",
    "\n",
    "## 📕 Today's Agenda\n",
    "---\n",
    " * [Datetime module](#Datetime-module)\n",
    " * [Logging module](#Logging-module)\n",
    " * [Configuring logger](#Configuring-logger)\n",
    " * [Writing logs to console or files](#Writing-logs-to-console-or-files)\n",
    "\n",
    "## 🧪 Theory\n",
    "---"
   ],
   "cell_type": "markdown",
   "metadata": {}
  },
  {
   "cell_type": "markdown",
   "source": [
    "### Datetime module\n",
    "\n",
    "Datetime module is used to work with date and time objects. It provides a simple interface\n",
    "for getting system time, calculate time deltas and represent timestamps in human readable\n",
    "date time strings. To start using datetime module you have to import it first. Datetime module\n",
    "contains classes that abstracts time, date, datetime, timezone, tzinfo and timedelata. If\n",
    "you plan to use just one of them in your code, then import the just that class with *from* statement.\n",
    "\n",
    "In addition to datetime module another module is used to get more exact time info (based on timestamps),\n",
    "the *time* module."
   ],
   "metadata": {
    "collapsed": false,
    "pycharm": {
     "name": "#%% md\n"
    }
   }
  },
  {
   "cell_type": "code",
   "execution_count": 10,
   "outputs": [
    {
     "name": "stdout",
     "output_type": "stream",
     "text": [
      "['MAXYEAR', 'MINYEAR', '__all__', '__builtins__', '__cached__', '__doc__', '__file__', '__loader__', '__name__', '__package__', '__spec__', 'date', 'datetime', 'datetime_CAPI', 'sys', 'time', 'timedelta', 'timezone', 'tzinfo']\n"
     ]
    }
   ],
   "source": [
    "import datetime\n",
    "print(dir(datetime))"
   ],
   "metadata": {
    "collapsed": false,
    "pycharm": {
     "name": "#%%\n"
    }
   }
  },
  {
   "cell_type": "markdown",
   "source": [
    "**Time class**\n",
    "\n",
    "Used to handle time related objects."
   ],
   "metadata": {
    "collapsed": false,
    "pycharm": {
     "name": "#%% md\n"
    }
   }
  },
  {
   "cell_type": "code",
   "execution_count": 65,
   "outputs": [
    {
     "name": "stdout",
     "output_type": "stream",
     "text": [
      "t1 type: <class 'datetime.time'>\n",
      "t1 repr: 21:30:01.001000\n",
      "t2 repr: 00:22:12.045000\n",
      "\n",
      "Time components\n",
      "t1 hour: 21\n",
      "t1 minute: 30\n",
      "t1 second: 1\n",
      "t1 microsecond: 1000\n",
      "\n",
      "Convert t2 into ISO format\n",
      "00:22:12.045000\n",
      "\n",
      "Print only hour and minutes\n",
      "21:30\n",
      "\n",
      "Print in 12h format\n",
      "09:30 PM\n",
      "03:04:05-02:00\n"
     ]
    }
   ],
   "source": [
    "from datetime import time, timedelta\n",
    "\n",
    "# create a time object\n",
    "t1 = time(21, 30, 1, 1000)\n",
    "print('t1 type:',type(t1))\n",
    "# print object representation\n",
    "print('t1 repr:', t1)\n",
    "\n",
    "# NOTE: fromisoformat accepts as parameter ISO 8601 time strings.\n",
    "# https://en.wikipedia.org/wiki/ISO_8601#Times\n",
    "\n",
    "# convert time information into Python objects\n",
    "t2 = time.fromisoformat('00:22:12.045')\n",
    "print('t2 repr:', t2)\n",
    "\n",
    "print('\\nTime components')\n",
    "# Accessing time components\n",
    "print('t1 hour:',t1.hour)\n",
    "print('t1 minute:',t1.minute)\n",
    "print('t1 second:',t1.second)\n",
    "print('t1 microsecond:',t1.microsecond)\n",
    "\n",
    "# Convert time objects into ISO format\n",
    "print('\\nConvert t2 into ISO format')\n",
    "print(time.isoformat(t2))\n",
    "\n",
    "# Print custom formatted time\n",
    "print(\"\\nPrint only hour and minutes\")\n",
    "print(t1.strftime(\"%H:%M\"))\n",
    "\n",
    "print('\\nPrint in 12h format')\n",
    "print(t1.strftime('%I:%M %p'))"
   ],
   "metadata": {
    "collapsed": false,
    "pycharm": {
     "name": "#%%\n"
    }
   }
  },
  {
   "cell_type": "markdown",
   "source": [
    "**Date class**\n",
    "\n",
    "Used to handle date related objects."
   ],
   "metadata": {
    "collapsed": false,
    "pycharm": {
     "name": "#%% md\n"
    }
   }
  },
  {
   "cell_type": "code",
   "execution_count": 97,
   "outputs": [
    {
     "name": "stdout",
     "output_type": "stream",
     "text": [
      "2011-05-02\n",
      "02.05.2011\n",
      "\n",
      "Date components\n",
      "day: 2\n",
      "month: 5\n",
      "year: 2011\n",
      "\n",
      "Today\n",
      "2021-01-06\n",
      "<class 'datetime.timedelta'>\n",
      "\n",
      "Time delta for today since date1\n",
      "Days since: 3537\n",
      "Seconds since: 305596800.0\n",
      "\n",
      "Datetime objects\n",
      "2021-01-06 14:31:36.465642\n"
     ]
    }
   ],
   "source": [
    "from datetime import date, datetime\n",
    "\n",
    "# create date objects\n",
    "date1 = date(2011, 5, 2)\n",
    "print(date1)\n",
    "\n",
    "#print date in other format\n",
    "print(date1.strftime(\"%d.%m.%Y\"))\n",
    "\n",
    "# print date components\n",
    "print('\\nDate components')\n",
    "print('day:', date1.day)\n",
    "print('month:', date1.month)\n",
    "print('year:', date1.year)\n",
    "\n",
    "# get today's date\n",
    "print('\\nToday')\n",
    "print(date.today())\n",
    "\n",
    "# calculate time delta\n",
    "date2 = date(2000, 1, 1)\n",
    "date_delta = date2 - date1\n",
    "print(type(date_delta))\n",
    "\n",
    "# time since today\n",
    "print('\\nTime delta for today since date1')\n",
    "delta1 = date.today() - date1\n",
    "print('Days since:', delta1.days)\n",
    "print('Seconds since:', delta1.total_seconds())\n",
    "\n",
    "# datetime = date and time together\n",
    "print('\\nDatetime objects')\n",
    "print(datetime.now())"
   ],
   "metadata": {
    "collapsed": false,
    "pycharm": {
     "name": "#%%\n"
    }
   }
  },
  {
   "cell_type": "markdown",
   "source": [
    "**Working with timestamps**\n",
    "\n",
    "Timestamp is long float number representing how much seconds were elapsed since\n",
    "1 Jan 1970 00:00 UTC until now. Time as timestamp is used to make time dependent decisions or to\n",
    "store precise time information in simple format, easy to store in a file/database."
   ],
   "metadata": {
    "collapsed": false,
    "pycharm": {
     "name": "#%% md\n"
    }
   }
  },
  {
   "cell_type": "code",
   "execution_count": 120,
   "outputs": [
    {
     "name": "stdout",
     "output_type": "stream",
     "text": [
      "TS in seconds: 1609937280.7488186\n",
      "TS in nanoseconds 1609937280749821400\n",
      "\n",
      "GM time struct UTC:  time.struct_time(tm_year=2021, tm_mon=1, tm_mday=6, tm_hour=10, tm_min=55, tm_sec=20, tm_wday=2, tm_yday=6, tm_isdst=0)\n",
      "GM time struct for local time:  time.struct_time(tm_year=2021, tm_mon=1, tm_mday=6, tm_hour=12, tm_min=55, tm_sec=20, tm_wday=2, tm_yday=6, tm_isdst=0)\n",
      "ISO format for old_ts + local time delta: 2021-01-06 12:55:20\n",
      "\n",
      "String 30-12-2020 to time_struct\n",
      "time.struct_time(tm_year=2020, tm_mon=12, tm_mday=30, tm_hour=0, tm_min=0, tm_sec=0, tm_wday=2, tm_yday=365, tm_isdst=-1)\n",
      "t3 as TS: 1609279200.0\n",
      "13808227514100\n",
      "13808227582000\n"
     ]
    }
   ],
   "source": [
    "import time\n",
    "\n",
    "# read current timestamp in seconds\n",
    "print('TS in seconds:', time.time())\n",
    "\n",
    "# read current timestamp in nanoseconds\n",
    "print('TS in nanoseconds', time.time_ns())\n",
    "\n",
    "# get datetime objects from\n",
    "old_ts = 1609930520\n",
    "\n",
    "# convert a TS in ISO date and time\n",
    "print('\\nGM time struct UTC: ', time.gmtime(old_ts))\n",
    "print('GM time struct for local time: ', time.localtime(old_ts))\n",
    "print('ISO format for old_ts + local time delta:', datetime.fromtimestamp(old_ts))\n",
    "\n",
    "# convert string date time in TS\n",
    "print('\\nString 30-12-2020 to time_struct')\n",
    "t3 = time.strptime('30-12-2020', '%d-%m-%Y')\n",
    "print(t3)\n",
    "print('t3 as TS:', time.mktime(t3))"
   ],
   "metadata": {
    "collapsed": false,
    "pycharm": {
     "name": "#%%\n"
    }
   }
  },
  {
   "cell_type": "markdown",
   "source": [
    "### Logging module"
   ],
   "metadata": {
    "collapsed": false,
    "pycharm": {
     "name": "#%% md\n"
    }
   }
  },
  {
   "cell_type": "markdown",
   "source": [
    "## 👩‍💻 Practice\n",
    "---\n",
    "1. Write a function that calculates how much milliseconds takes the execution of a function.\n",
    "This function will take the function name to execute as first argument and *args to hold arguments for passed function.\n",
    "Signature: `def perf_counter(func, *args)`.\n",
    "\n",
    "## 🏠 Homework\n",
    "---"
   ],
   "metadata": {
    "collapsed": false,
    "pycharm": {
     "name": "#%% md\n"
    }
   }
  }
 ],
 "metadata": {
  "kernelspec": {
   "name": "python3",
   "language": "python",
   "display_name": "Python 3"
  },
  "language_info": {
   "codemirror_mode": {
    "name": "ipython",
    "version": 3
   },
   "file_extension": ".py",
   "mimetype": "text/x-python",
   "name": "python",
   "nbconvert_exporter": "python",
   "pygments_lexer": "ipython3",
   "version": "3.9.0-final"
  }
 },
 "nbformat": 4,
 "nbformat_minor": 4
}