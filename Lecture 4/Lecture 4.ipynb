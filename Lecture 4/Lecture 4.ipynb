{
 "cells": [
  {
   "source": [
    "# Lecture 4 - Command Line Arguments\n",
    "\n",
    "## 📕 Today's Agenda\n",
    "---\n",
    " * [Simple argument parsing](#Simple-argument-parsing)\n",
    " * [Parsing with argparse](#Parsing-with-argparse)\n",
    " * [Script version and description](#Script-version-and-description)\n",
    " * [Mandatory and optional arguments](#Mandatory-and-optional-arguments)\n",
    " * Actions and default values\n",
    " * Argument validation\n",
    "\n",
    "## 🧪 Theory\n",
    "---\n",
    "\n",
    "### Simple argument parsing\n",
    "\n",
    "One of the best feature of CLI tools is the ability of injecting data into a program. This\n",
    "is a key point in automation world.\n",
    "Parsing arguments can be messy when the number of arguments is big, but for one or two positional arguments\n",
    "is enough to use `sys` module."
   ],
   "cell_type": "markdown",
   "metadata": {}
  },
  {
   "cell_type": "code",
   "execution_count": 1,
   "outputs": [
    {
     "name": "stdout",
     "output_type": "stream",
     "text": [
      "['c:\\\\users\\\\mdinu\\\\appdata\\\\local\\\\programs\\\\python\\\\python39\\\\lib\\\\site-packages\\\\ipykernel_launcher.py', '-f', 'C:\\\\Users\\\\mdinu\\\\AppData\\\\Roaming\\\\jupyter\\\\runtime\\\\kernel-537ca260-35e5-49cd-8ee9-f34d1fff71ed.json']\n",
      "First arg: -f\n",
      "c:\\users\\mdinu\\appdata\\local\\programs\\python\\python39\\lib\\site-packages\\ipykernel_launcher.py\n",
      "-f\n",
      "C:\\Users\\mdinu\\AppData\\Roaming\\jupyter\\runtime\\kernel-537ca260-35e5-49cd-8ee9-f34d1fff71ed.json\n"
     ]
    }
   ],
   "source": [
    "import sys\n",
    "\n",
    "print(sys.argv)\n",
    "print('First arg:', sys.argv[1])\n",
    "\n",
    "for arg in sys.argv:\n",
    "    print(arg)"
   ],
   "metadata": {
    "collapsed": false,
    "pycharm": {
     "name": "#%%\n"
    }
   }
  },
  {
   "cell_type": "markdown",
   "source": [
    "### Parsing with argparse\n",
    "The simplest and fastest path to a good argument parsing is usage of `argparse` module. It\n",
    "provides a simple interface for argument handling if configured well.\n",
    "It comes with out of the box support for common arguments like -h (--help) and -v (--version).\n",
    "\n",
    "Let's jump in and create a simple arg parser.\n",
    "\n",
    "NOTE: `parse_args` should be called without arguments when getting arguments from CLI. In this notebook\n",
    "i can't pass arguments to the CLI so I will pass them into `parse_args` function call.\n"
   ],
   "metadata": {
    "collapsed": false,
    "pycharm": {
     "name": "#%% md\n"
    }
   }
  },
  {
   "cell_type": "code",
   "execution_count": 2,
   "outputs": [
    {
     "name": "stdout",
     "output_type": "stream",
     "text": [
      "Namespace(name='mihai', surname='dinu')\n",
      "mihai\n",
      "dinu\n"
     ]
    }
   ],
   "source": [
    "import argparse\n",
    "argparser = argparse.ArgumentParser()\n",
    "argparser.add_argument('name')\n",
    "argparser.add_argument('surname')\n",
    "args = argparser.parse_args(['mihai', 'dinu'])\n",
    "print(args)\n",
    "print(args.name)\n",
    "print(args.surname)"
   ],
   "metadata": {
    "collapsed": false,
    "pycharm": {
     "name": "#%%\n"
    }
   }
  },
  {
   "cell_type": "markdown",
   "source": [
    "Code explained:\n",
    "Line 1: create a new ArgumentParser object, this will hold info about available arguments.\n",
    "Line 2: add first positional argument to the parser.\n",
    "Line 3: add second positional argument to the parser.\n",
    "Line 4: parse CLI args and store data into parser.\n",
    "Line 5-7: Use data passed via arguments."
   ],
   "metadata": {
    "collapsed": false,
    "pycharm": {
     "name": "#%% md\n"
    }
   }
  },
  {
   "cell_type": "markdown",
   "source": [
    "### Script version and description\n",
    "As I already discussed about built-in ability to handle version and help, let's configure them.\n",
    "Help is constructed using available arguments in parser. Use *help* kwarg to specify a help message for an argument."
   ],
   "metadata": {
    "collapsed": false,
    "pycharm": {
     "name": "#%% md\n"
    }
   }
  },
  {
   "cell_type": "code",
   "execution_count": 6,
   "outputs": [
    {
     "name": "stdout",
     "output_type": "stream",
     "text": [
      "usage: ipykernel_launcher.py [-h] name\n",
      "\n",
      "Notebooks description.\n",
      "\n",
      "positional arguments:\n",
      "  name        User name\n",
      "\n",
      "optional arguments:\n",
      "  -h, --help  show this help message and exit\n"
     ]
    },
    {
     "ename": "SystemExit",
     "evalue": "0",
     "output_type": "error",
     "traceback": [
      "An exception has occurred, use %tb to see the full traceback.\n",
      "\u001B[1;31mSystemExit\u001B[0m\u001B[1;31m:\u001B[0m 0\n"
     ]
    },
    {
     "name": "stderr",
     "output_type": "stream",
     "text": [
      "c:\\users\\mdinu\\appdata\\local\\programs\\python\\python39\\lib\\site-packages\\IPython\\core\\interactiveshell.py:3426: UserWarning: To exit: use 'exit', 'quit', or Ctrl-D.\n",
      "  warn(\"To exit: use 'exit', 'quit', or Ctrl-D.\", stacklevel=1)\n"
     ]
    }
   ],
   "source": [
    "argparser2 = argparse.ArgumentParser(description='Notebooks description.')\n",
    "argparser2.add_argument('name', help='User name')\n",
    "argparser2.parse_args(['--help'])"
   ],
   "metadata": {
    "collapsed": false,
    "pycharm": {
     "name": "#%%\n"
    }
   }
  },
  {
   "cell_type": "markdown",
   "source": [
    "For version handling a there in not a already defined argument, we have to define it, instead exists an action."
   ],
   "metadata": {
    "collapsed": false,
    "pycharm": {
     "name": "#%% md\n"
    }
   }
  },
  {
   "cell_type": "code",
   "execution_count": 4,
   "outputs": [
    {
     "name": "stdout",
     "output_type": "stream",
     "text": [
      "1.0\n"
     ]
    },
    {
     "ename": "SystemExit",
     "evalue": "0",
     "output_type": "error",
     "traceback": [
      "An exception has occurred, use %tb to see the full traceback.\n",
      "\u001B[1;31mSystemExit\u001B[0m\u001B[1;31m:\u001B[0m 0\n"
     ]
    },
    {
     "name": "stderr",
     "output_type": "stream",
     "text": [
      "c:\\users\\mdinu\\appdata\\local\\programs\\python\\python39\\lib\\site-packages\\IPython\\core\\interactiveshell.py:3426: UserWarning: To exit: use 'exit', 'quit', or Ctrl-D.\n",
      "  warn(\"To exit: use 'exit', 'quit', or Ctrl-D.\", stacklevel=1)\n"
     ]
    }
   ],
   "source": [
    "argparser2.add_argument('-v', action='version', version='1.0')\n",
    "argparser2.parse_args(['-v'])"
   ],
   "metadata": {
    "collapsed": false,
    "pycharm": {
     "name": "#%%\n"
    }
   }
  },
  {
   "cell_type": "markdown",
   "source": [
    "### Mandatory and optional arguments\n",
    "Each optional argument can trigger one action or can pass a value with it. For example --verbose can set\n",
    "a variable to True but if you provide a number after it (--verbose 2), the number can be used to set verbosity level.\n",
    "To specify how much sub-arguments an argument can take `nargs` kwarg must be provided. Along `nargs` argument, `meta` kwarg\n",
    "is needed, but not mandatory, to describe what is expected for that CLI arg."
   ],
   "metadata": {
    "collapsed": false,
    "pycharm": {
     "name": "#%% md\n"
    }
   }
  },
  {
   "cell_type": "code",
   "execution_count": 10,
   "outputs": [
    {
     "name": "stdout",
     "output_type": "stream",
     "text": [
      "usage: ipykernel_launcher.py [-h] [-n NUMBERS] [-r READ]\n",
      "\n",
      "optional arguments:\n",
      "  -h, --help            show this help message and exit\n",
      "  -n NUMBERS            Generate n numbers.\n",
      "  -r READ, --read READ  Read files.\n"
     ]
    },
    {
     "ename": "SystemExit",
     "evalue": "0",
     "output_type": "error",
     "traceback": [
      "An exception has occurred, use %tb to see the full traceback.\n",
      "\u001B[1;31mSystemExit\u001B[0m\u001B[1;31m:\u001B[0m 0\n"
     ]
    },
    {
     "name": "stderr",
     "output_type": "stream",
     "text": [
      "c:\\users\\mdinu\\appdata\\local\\programs\\python\\python39\\lib\\site-packages\\IPython\\core\\interactiveshell.py:3426: UserWarning: To exit: use 'exit', 'quit', or Ctrl-D.\n",
      "  warn(\"To exit: use 'exit', 'quit', or Ctrl-D.\", stacklevel=1)\n"
     ]
    }
   ],
   "source": [
    "argparser3 = argparse.ArgumentParser()\n",
    "argparser3.add_argument(\n",
    "    '-n',\n",
    "    nargs=1,\n",
    "    metavar='NUMBERS',\n",
    "    help=\"Generate n numbers.\"\n",
    ")\n",
    "argparser3.add_argument(\n",
    "    '-r',\n",
    "    '--read',\n",
    "    help='Read files.'\n",
    ")\n",
    "args = argparser3.parse_args(['-h'])"
   ],
   "metadata": {
    "collapsed": false,
    "pycharm": {
     "name": "#%%\n"
    }
   }
  },
  {
   "cell_type": "markdown",
   "source": [
    "## 👩‍💻 Practice\n",
    "---\n",
    "1. Write a script that takes two arguments. First argument is a number and the second one is a path to an output file.\n",
    "The script will compute Fibonacci numbers up to first argument and will write them on the output file\n",
    "specified by the second argument, one number per line. Argument parsing will be done using *sys* module. Make sure you check\n",
    "for the number of arguments provided by user and make sure that they are valid. For Fibonacci calculus make a generator function.\n",
    "\n",
    "2. Modify the code written for point 1 in order to use `argparse`.\n",
    "\n",
    "## 🏠 Homework\n",
    "---"
   ],
   "metadata": {
    "collapsed": false,
    "pycharm": {
     "name": "#%% md\n"
    }
   }
  }
 ],
 "metadata": {
  "kernelspec": {
   "name": "python3",
   "language": "python",
   "display_name": "Python 3"
  },
  "language_info": {
   "codemirror_mode": {
    "name": "ipython",
    "version": 3
   },
   "file_extension": ".py",
   "mimetype": "text/x-python",
   "name": "python",
   "nbconvert_exporter": "python",
   "pygments_lexer": "ipython3",
   "version": "3.9.0-final"
  }
 },
 "nbformat": 4,
 "nbformat_minor": 4
}