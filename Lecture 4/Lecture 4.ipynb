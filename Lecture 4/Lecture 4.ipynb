{
 "cells": [
  {
   "source": [
    "# Lecture 4 - Command Line Arguments\n",
    "\n",
    "## 📕 Today's Agenda\n",
    "---\n",
    " * [Simple argument parsing](#Simple-argument-parsing)\n",
    " * Parsing with argparse\n",
    " * Script version and description\n",
    " * Mandatory and optional arguments\n",
    " * Actions and default values\n",
    " * Argument validation\n",
    "\n",
    "## 🧪 Theory\n",
    "---\n",
    "\n",
    "### Simple argument parsing\n",
    "\n",
    "One of the best feature of CLI tools is the ability of injecting data into a program. This\n",
    "is a key point in automation world.\n",
    "Parsing arguments can be messy when the number of arguments is big, but for one or two positional arguments\n",
    "is enough to use `sys` module."
   ],
   "cell_type": "markdown",
   "metadata": {}
  },
  {
   "cell_type": "code",
   "execution_count": 5,
   "outputs": [
    {
     "name": "stdout",
     "output_type": "stream",
     "text": [
      "['c:\\\\users\\\\mdinu\\\\appdata\\\\local\\\\programs\\\\python\\\\python39\\\\lib\\\\site-packages\\\\ipykernel_launcher.py', '-f', 'C:\\\\Users\\\\mdinu\\\\AppData\\\\Roaming\\\\jupyter\\\\runtime\\\\kernel-7e87a79d-a690-453b-bb9e-e51f4d434ada.json']\n",
      "First arg: -f\n",
      "c:\\users\\mdinu\\appdata\\local\\programs\\python\\python39\\lib\\site-packages\\ipykernel_launcher.py\n",
      "-f\n",
      "C:\\Users\\mdinu\\AppData\\Roaming\\jupyter\\runtime\\kernel-7e87a79d-a690-453b-bb9e-e51f4d434ada.json\n"
     ]
    }
   ],
   "source": [
    "import sys\n",
    "\n",
    "print(sys.argv)\n",
    "print('First arg:', sys.argv[1])\n",
    "\n",
    "for arg in sys.argv:\n",
    "    print(arg)"
   ],
   "metadata": {
    "collapsed": false,
    "pycharm": {
     "name": "#%%\n"
    }
   }
  },
  {
   "cell_type": "markdown",
   "source": [
    "## 👩‍💻 Practice\n",
    "---\n",
    "1. Write a script that takes two arguments. First argument is a number and the second one is a path to an output file.\n",
    "The script will compute Fibonacci numbers up to first argument and will write them on the output file\n",
    "specified by the second argument, one number per line. Argument parsing will be done using *sys* module. Make sure you check\n",
    "for the number of arguments provided by user and make sure that they are valid. For Fibonacci calculus make a generator function.\n",
    "\n",
    "\n",
    "## 🏠 Homework\n",
    "---"
   ],
   "metadata": {
    "collapsed": false,
    "pycharm": {
     "name": "#%% md\n"
    }
   }
  }
 ],
 "metadata": {
  "kernelspec": {
   "name": "python3",
   "language": "python",
   "display_name": "Python 3"
  },
  "language_info": {
   "codemirror_mode": {
    "name": "ipython",
    "version": 3
   },
   "file_extension": ".py",
   "mimetype": "text/x-python",
   "name": "python",
   "nbconvert_exporter": "python",
   "pygments_lexer": "ipython3",
   "version": "3.9.0-final"
  }
 },
 "nbformat": 4,
 "nbformat_minor": 4
}